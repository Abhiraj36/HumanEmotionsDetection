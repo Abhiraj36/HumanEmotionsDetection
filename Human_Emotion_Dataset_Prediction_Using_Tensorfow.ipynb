{
  "metadata": {
    "kernelspec": {
      "display_name": "Python 3",
      "name": "python3"
    },
    "language_info": {
      "name": "python",
      "version": "3.10.13",
      "mimetype": "text/x-python",
      "codemirror_mode": {
        "name": "ipython",
        "version": 3
      },
      "pygments_lexer": "ipython3",
      "nbconvert_exporter": "python",
      "file_extension": ".py"
    },
    "kaggle": {
      "accelerator": "none",
      "dataSources": [
        {
          "sourceId": 2996867,
          "sourceType": "datasetVersion",
          "datasetId": 1830888
        }
      ],
      "dockerImageVersionId": 30698,
      "isInternetEnabled": true,
      "language": "python",
      "sourceType": "notebook",
      "isGpuEnabled": false
    },
    "colab": {
      "name": "Human Emotion Dataset Prediction Using Tensorlow",
      "provenance": [],
      "gpuType": "T4",
      "include_colab_link": true
    },
    "accelerator": "GPU"
  },
  "nbformat_minor": 0,
  "nbformat": 4,
  "cells": [
    {
      "cell_type": "markdown",
      "metadata": {
        "id": "view-in-github",
        "colab_type": "text"
      },
      "source": [
        "<a href=\"https://colab.research.google.com/github/Abhiraj36/HumanEmotionsDetection/blob/main/Human_Emotion_Dataset_Prediction_Using_Tensorfow.ipynb\" target=\"_parent\"><img src=\"https://colab.research.google.com/assets/colab-badge.svg\" alt=\"Open In Colab\"/></a>"
      ]
    },
    {
      "source": [
        "import kagglehub\n",
        "muhammadhananasghar_human_emotions_datasethes_path = kagglehub.dataset_download('muhammadhananasghar/human-emotions-datasethes')\n",
        "\n",
        "print('Data source import complete.')"
      ],
      "metadata": {
        "id": "kgPu3W3yX2k1",
        "outputId": "da34a3bf-6410-4559-a47e-4fb7b3683d0b",
        "colab": {
          "base_uri": "https://localhost:8080/"
        }
      },
      "cell_type": "code",
      "outputs": [
        {
          "output_type": "stream",
          "name": "stdout",
          "text": [
            "Data source import complete.\n"
          ]
        }
      ],
      "execution_count": 9
    },
    {
      "cell_type": "code",
      "source": [
        "import os\n",
        "\n",
        "base_path = muhammadhananasghar_human_emotions_datasethes_path\n",
        "for root, dirs, files in os.walk(base_path):\n",
        "    print(root)\n",
        "    break"
      ],
      "metadata": {
        "colab": {
          "base_uri": "https://localhost:8080/"
        },
        "id": "fVj_iBiYkxfH",
        "outputId": "3824db07-3b6b-4dd5-f21b-57de487b6e4d"
      },
      "execution_count": 10,
      "outputs": [
        {
          "output_type": "stream",
          "name": "stdout",
          "text": [
            "/kaggle/input/human-emotions-datasethes\n"
          ]
        }
      ]
    },
    {
      "cell_type": "code",
      "source": [
        "import os\n",
        "\n",
        "base_path = \"/root/.cache/kagglehub/datasets/muhammadhananasghar/human-emotions-datasethes/versions/4\"\n",
        "for item in os.listdir(base_path):\n",
        "    print(item)\n"
      ],
      "metadata": {
        "colab": {
          "base_uri": "https://localhost:8080/"
        },
        "id": "0UlmHWfRk6vG",
        "outputId": "608c2e28-650e-4d65-f9a1-4ecfeefad5e7"
      },
      "execution_count": 11,
      "outputs": [
        {
          "output_type": "stream",
          "name": "stdout",
          "text": [
            "EmotionsDataset_Splitted\n",
            "EmotionsDataset\n",
            "Emotions Dataset\n"
          ]
        }
      ]
    },
    {
      "cell_type": "code",
      "source": [
        "nested_path = os.path.join(base_path, \"Emotions Dataset\", \"Emotions Dataset\")\n",
        "print(\"Contents of nested folder:\")\n",
        "print(os.listdir(nested_path))\n"
      ],
      "metadata": {
        "id": "ETeob3yMlPSI",
        "outputId": "a2912c60-0765-4890-cf32-50a4211ac5d7",
        "colab": {
          "base_uri": "https://localhost:8080/"
        }
      },
      "execution_count": 12,
      "outputs": [
        {
          "output_type": "stream",
          "name": "stdout",
          "text": [
            "Contents of nested folder:\n",
            "['test', 'train']\n"
          ]
        }
      ]
    },
    {
      "cell_type": "code",
      "source": [
        "subdirs = [\"Emotions Dataset\", \"EmotionsDataset\", \"EmotionDataset_Splitted\"]\n",
        "base_path = \"/root/.cache/kagglehub/datasets/muhammadhananasghar/human-emotions-datasethes/versions/4\"\n",
        "\n"
      ],
      "metadata": {
        "id": "QV7xRfUmlJf7"
      },
      "execution_count": 13,
      "outputs": []
    },
    {
      "cell_type": "markdown",
      "source": [
        "# Data Loading"
      ],
      "metadata": {
        "id": "U60PZXXKX2k3"
      }
    },
    {
      "cell_type": "code",
      "source": [
        "import os\n",
        "os.kill(os.getpid(), 9)"
      ],
      "metadata": {
        "id": "rpJoYruWGwUC"
      },
      "execution_count": null,
      "outputs": []
    },
    {
      "cell_type": "code",
      "source": [
        "import numpy as np\n",
        "import pandas as pd\n",
        "import os\n",
        "import tensorflow as tf\n",
        "from tensorflow.keras.layers import Permute, Dense, Flatten, Conv2D, Resizing, Rescaling, Input, Dropout, InputLayer, MaxPool2D, BatchNormalization, RandomContrast, RandomFlip, RandomRotation, MaxPooling2D, Activation, GlobalAveragePooling2D, Add, Embedding, LayerNormalization, MultiHeadAttention\n",
        "from tensorflow.keras.regularizers import L2\n",
        "from sklearn.metrics import confusion_matrix\n",
        "import matplotlib.pyplot as plt\n",
        "import cv2\n",
        "import seaborn as sns\n",
        "from tensorflow.keras import Model\n",
        "from tensorflow.keras.layers import Layer"
      ],
      "metadata": {
        "execution": {
          "iopub.status.busy": "2024-03-22T12:37:36.212783Z",
          "iopub.execute_input": "2024-03-22T12:37:36.213216Z",
          "iopub.status.idle": "2024-03-22T12:37:36.220485Z",
          "shell.execute_reply.started": "2024-03-22T12:37:36.213188Z",
          "shell.execute_reply": "2024-03-22T12:37:36.219518Z"
        },
        "trusted": true,
        "id": "5yUbcsr5X2k5",
        "outputId": "b6c20c9a-dc58-46d3-c0c8-701ef3b6552b",
        "colab": {
          "base_uri": "https://localhost:8080/",
          "height": 307
        }
      },
      "execution_count": 16,
      "outputs": [
        {
          "output_type": "error",
          "ename": "AttributeError",
          "evalue": "module 'numpy' has no attribute 'dtypes'",
          "traceback": [
            "\u001b[0;31m---------------------------------------------------------------------------\u001b[0m",
            "\u001b[0;31mAttributeError\u001b[0m                            Traceback (most recent call last)",
            "\u001b[0;32m<ipython-input-16-458da5a85063>\u001b[0m in \u001b[0;36m<cell line: 0>\u001b[0;34m()\u001b[0m\n\u001b[1;32m      2\u001b[0m \u001b[0;32mimport\u001b[0m \u001b[0mos\u001b[0m\u001b[0;34m\u001b[0m\u001b[0;34m\u001b[0m\u001b[0m\n\u001b[1;32m      3\u001b[0m \u001b[0;32mimport\u001b[0m \u001b[0mnumpy\u001b[0m \u001b[0;32mas\u001b[0m \u001b[0mnp\u001b[0m\u001b[0;34m\u001b[0m\u001b[0;34m\u001b[0m\u001b[0m\n\u001b[0;32m----> 4\u001b[0;31m \u001b[0;32mimport\u001b[0m \u001b[0mtensorflow\u001b[0m \u001b[0;32mas\u001b[0m \u001b[0mtf\u001b[0m\u001b[0;34m\u001b[0m\u001b[0;34m\u001b[0m\u001b[0m\n\u001b[0m\u001b[1;32m      5\u001b[0m \u001b[0;32mfrom\u001b[0m \u001b[0mtensorflow\u001b[0m\u001b[0;34m.\u001b[0m\u001b[0mkeras\u001b[0m\u001b[0;34m.\u001b[0m\u001b[0mlayers\u001b[0m \u001b[0;32mimport\u001b[0m \u001b[0mPermute\u001b[0m\u001b[0;34m,\u001b[0m\u001b[0mDense\u001b[0m\u001b[0;34m,\u001b[0m\u001b[0mFlatten\u001b[0m\u001b[0;34m,\u001b[0m\u001b[0mConv2D\u001b[0m\u001b[0;34m,\u001b[0m\u001b[0mResizing\u001b[0m\u001b[0;34m,\u001b[0m\u001b[0mRescaling\u001b[0m\u001b[0;34m,\u001b[0m\u001b[0mInput\u001b[0m\u001b[0;34m,\u001b[0m\u001b[0mDropout\u001b[0m\u001b[0;34m,\u001b[0m\u001b[0mInputLayer\u001b[0m\u001b[0;34m,\u001b[0m\u001b[0mMaxPool2D\u001b[0m\u001b[0;34m,\u001b[0m\u001b[0mBatchNormalization\u001b[0m\u001b[0;34m,\u001b[0m\u001b[0mRandomContrast\u001b[0m\u001b[0;34m,\u001b[0m\u001b[0mRandomFlip\u001b[0m\u001b[0;34m,\u001b[0m\u001b[0mRandomRotation\u001b[0m\u001b[0;34m,\u001b[0m\u001b[0mMaxPooling2D\u001b[0m\u001b[0;34m,\u001b[0m\u001b[0mActivation\u001b[0m\u001b[0;34m,\u001b[0m\u001b[0mGlobalAveragePooling2D\u001b[0m\u001b[0;34m,\u001b[0m\u001b[0mAdd\u001b[0m\u001b[0;34m,\u001b[0m\u001b[0mEmbedding\u001b[0m\u001b[0;34m,\u001b[0m\u001b[0mLayerNormalization\u001b[0m\u001b[0;34m,\u001b[0m\u001b[0mMultiHeadAttention\u001b[0m\u001b[0;34m\u001b[0m\u001b[0;34m\u001b[0m\u001b[0m\n\u001b[1;32m      6\u001b[0m \u001b[0;32mfrom\u001b[0m \u001b[0mtensorflow\u001b[0m\u001b[0;34m.\u001b[0m\u001b[0mkeras\u001b[0m\u001b[0;34m.\u001b[0m\u001b[0mregularizers\u001b[0m \u001b[0;32mimport\u001b[0m \u001b[0mL2\u001b[0m\u001b[0;34m\u001b[0m\u001b[0;34m\u001b[0m\u001b[0m\n",
            "\u001b[0;32m/usr/local/lib/python3.11/dist-packages/tensorflow/__init__.py\u001b[0m in \u001b[0;36m<module>\u001b[0;34m\u001b[0m\n\u001b[1;32m     53\u001b[0m \u001b[0;32mfrom\u001b[0m \u001b[0mtensorflow\u001b[0m\u001b[0;34m.\u001b[0m\u001b[0m_api\u001b[0m\u001b[0;34m.\u001b[0m\u001b[0mv2\u001b[0m \u001b[0;32mimport\u001b[0m \u001b[0mautograph\u001b[0m\u001b[0;34m\u001b[0m\u001b[0;34m\u001b[0m\u001b[0m\n\u001b[1;32m     54\u001b[0m \u001b[0;32mfrom\u001b[0m \u001b[0mtensorflow\u001b[0m\u001b[0;34m.\u001b[0m\u001b[0m_api\u001b[0m\u001b[0;34m.\u001b[0m\u001b[0mv2\u001b[0m \u001b[0;32mimport\u001b[0m \u001b[0mbitwise\u001b[0m\u001b[0;34m\u001b[0m\u001b[0;34m\u001b[0m\u001b[0m\n\u001b[0;32m---> 55\u001b[0;31m \u001b[0;32mfrom\u001b[0m \u001b[0mtensorflow\u001b[0m\u001b[0;34m.\u001b[0m\u001b[0m_api\u001b[0m\u001b[0;34m.\u001b[0m\u001b[0mv2\u001b[0m \u001b[0;32mimport\u001b[0m \u001b[0mcompat\u001b[0m\u001b[0;34m\u001b[0m\u001b[0;34m\u001b[0m\u001b[0m\n\u001b[0m\u001b[1;32m     56\u001b[0m \u001b[0;32mfrom\u001b[0m \u001b[0mtensorflow\u001b[0m\u001b[0;34m.\u001b[0m\u001b[0m_api\u001b[0m\u001b[0;34m.\u001b[0m\u001b[0mv2\u001b[0m \u001b[0;32mimport\u001b[0m \u001b[0mconfig\u001b[0m\u001b[0;34m\u001b[0m\u001b[0;34m\u001b[0m\u001b[0m\n\u001b[1;32m     57\u001b[0m \u001b[0;32mfrom\u001b[0m \u001b[0mtensorflow\u001b[0m\u001b[0;34m.\u001b[0m\u001b[0m_api\u001b[0m\u001b[0;34m.\u001b[0m\u001b[0mv2\u001b[0m \u001b[0;32mimport\u001b[0m \u001b[0mdata\u001b[0m\u001b[0;34m\u001b[0m\u001b[0;34m\u001b[0m\u001b[0m\n",
            "\u001b[0;32m/usr/local/lib/python3.11/dist-packages/tensorflow/_api/v2/compat/__init__.py\u001b[0m in \u001b[0;36m<module>\u001b[0;34m\u001b[0m\n\u001b[1;32m      6\u001b[0m \u001b[0;32mimport\u001b[0m \u001b[0msys\u001b[0m \u001b[0;32mas\u001b[0m \u001b[0m_sys\u001b[0m\u001b[0;34m\u001b[0m\u001b[0;34m\u001b[0m\u001b[0m\n\u001b[1;32m      7\u001b[0m \u001b[0;34m\u001b[0m\u001b[0m\n\u001b[0;32m----> 8\u001b[0;31m \u001b[0;32mfrom\u001b[0m \u001b[0mtensorflow\u001b[0m\u001b[0;34m.\u001b[0m\u001b[0m_api\u001b[0m\u001b[0;34m.\u001b[0m\u001b[0mv2\u001b[0m\u001b[0;34m.\u001b[0m\u001b[0mcompat\u001b[0m \u001b[0;32mimport\u001b[0m \u001b[0mv1\u001b[0m\u001b[0;34m\u001b[0m\u001b[0;34m\u001b[0m\u001b[0m\n\u001b[0m\u001b[1;32m      9\u001b[0m \u001b[0;32mfrom\u001b[0m \u001b[0mtensorflow\u001b[0m\u001b[0;34m.\u001b[0m\u001b[0m_api\u001b[0m\u001b[0;34m.\u001b[0m\u001b[0mv2\u001b[0m\u001b[0;34m.\u001b[0m\u001b[0mcompat\u001b[0m \u001b[0;32mimport\u001b[0m \u001b[0mv2\u001b[0m\u001b[0;34m\u001b[0m\u001b[0;34m\u001b[0m\u001b[0m\n\u001b[1;32m     10\u001b[0m \u001b[0;32mfrom\u001b[0m \u001b[0mtensorflow\u001b[0m\u001b[0;34m.\u001b[0m\u001b[0mpython\u001b[0m\u001b[0;34m.\u001b[0m\u001b[0mcompat\u001b[0m\u001b[0;34m.\u001b[0m\u001b[0mcompat\u001b[0m \u001b[0;32mimport\u001b[0m \u001b[0mforward_compatibility_horizon\u001b[0m \u001b[0;31m# line: 125\u001b[0m\u001b[0;34m\u001b[0m\u001b[0;34m\u001b[0m\u001b[0m\n",
            "\u001b[0;32m/usr/local/lib/python3.11/dist-packages/tensorflow/_api/v2/compat/v1/__init__.py\u001b[0m in \u001b[0;36m<module>\u001b[0;34m\u001b[0m\n\u001b[1;32m     28\u001b[0m \u001b[0;32mfrom\u001b[0m \u001b[0mtensorflow\u001b[0m\u001b[0;34m.\u001b[0m\u001b[0m_api\u001b[0m\u001b[0;34m.\u001b[0m\u001b[0mv2\u001b[0m\u001b[0;34m.\u001b[0m\u001b[0mcompat\u001b[0m\u001b[0;34m.\u001b[0m\u001b[0mv1\u001b[0m \u001b[0;32mimport\u001b[0m \u001b[0mautograph\u001b[0m\u001b[0;34m\u001b[0m\u001b[0;34m\u001b[0m\u001b[0m\n\u001b[1;32m     29\u001b[0m \u001b[0;32mfrom\u001b[0m \u001b[0mtensorflow\u001b[0m\u001b[0;34m.\u001b[0m\u001b[0m_api\u001b[0m\u001b[0;34m.\u001b[0m\u001b[0mv2\u001b[0m\u001b[0;34m.\u001b[0m\u001b[0mcompat\u001b[0m\u001b[0;34m.\u001b[0m\u001b[0mv1\u001b[0m \u001b[0;32mimport\u001b[0m \u001b[0mbitwise\u001b[0m\u001b[0;34m\u001b[0m\u001b[0;34m\u001b[0m\u001b[0m\n\u001b[0;32m---> 30\u001b[0;31m \u001b[0;32mfrom\u001b[0m \u001b[0mtensorflow\u001b[0m\u001b[0;34m.\u001b[0m\u001b[0m_api\u001b[0m\u001b[0;34m.\u001b[0m\u001b[0mv2\u001b[0m\u001b[0;34m.\u001b[0m\u001b[0mcompat\u001b[0m\u001b[0;34m.\u001b[0m\u001b[0mv1\u001b[0m \u001b[0;32mimport\u001b[0m \u001b[0mcompat\u001b[0m\u001b[0;34m\u001b[0m\u001b[0;34m\u001b[0m\u001b[0m\n\u001b[0m\u001b[1;32m     31\u001b[0m \u001b[0;32mfrom\u001b[0m \u001b[0mtensorflow\u001b[0m\u001b[0;34m.\u001b[0m\u001b[0m_api\u001b[0m\u001b[0;34m.\u001b[0m\u001b[0mv2\u001b[0m\u001b[0;34m.\u001b[0m\u001b[0mcompat\u001b[0m\u001b[0;34m.\u001b[0m\u001b[0mv1\u001b[0m \u001b[0;32mimport\u001b[0m \u001b[0mconfig\u001b[0m\u001b[0;34m\u001b[0m\u001b[0;34m\u001b[0m\u001b[0m\n\u001b[1;32m     32\u001b[0m \u001b[0;32mfrom\u001b[0m \u001b[0mtensorflow\u001b[0m\u001b[0;34m.\u001b[0m\u001b[0m_api\u001b[0m\u001b[0;34m.\u001b[0m\u001b[0mv2\u001b[0m\u001b[0;34m.\u001b[0m\u001b[0mcompat\u001b[0m\u001b[0;34m.\u001b[0m\u001b[0mv1\u001b[0m \u001b[0;32mimport\u001b[0m \u001b[0mdata\u001b[0m\u001b[0;34m\u001b[0m\u001b[0;34m\u001b[0m\u001b[0m\n",
            "\u001b[0;32m/usr/local/lib/python3.11/dist-packages/tensorflow/_api/v2/compat/v1/compat/__init__.py\u001b[0m in \u001b[0;36m<module>\u001b[0;34m\u001b[0m\n\u001b[1;32m      6\u001b[0m \u001b[0;32mimport\u001b[0m \u001b[0msys\u001b[0m \u001b[0;32mas\u001b[0m \u001b[0m_sys\u001b[0m\u001b[0;34m\u001b[0m\u001b[0;34m\u001b[0m\u001b[0m\n\u001b[1;32m      7\u001b[0m \u001b[0;34m\u001b[0m\u001b[0m\n\u001b[0;32m----> 8\u001b[0;31m \u001b[0;32mfrom\u001b[0m \u001b[0mtensorflow\u001b[0m\u001b[0;34m.\u001b[0m\u001b[0m_api\u001b[0m\u001b[0;34m.\u001b[0m\u001b[0mv2\u001b[0m\u001b[0;34m.\u001b[0m\u001b[0mcompat\u001b[0m\u001b[0;34m.\u001b[0m\u001b[0mv1\u001b[0m\u001b[0;34m.\u001b[0m\u001b[0mcompat\u001b[0m \u001b[0;32mimport\u001b[0m \u001b[0mv1\u001b[0m\u001b[0;34m\u001b[0m\u001b[0;34m\u001b[0m\u001b[0m\n\u001b[0m\u001b[1;32m      9\u001b[0m \u001b[0;32mfrom\u001b[0m \u001b[0mtensorflow\u001b[0m\u001b[0;34m.\u001b[0m\u001b[0m_api\u001b[0m\u001b[0;34m.\u001b[0m\u001b[0mv2\u001b[0m\u001b[0;34m.\u001b[0m\u001b[0mcompat\u001b[0m\u001b[0;34m.\u001b[0m\u001b[0mv1\u001b[0m\u001b[0;34m.\u001b[0m\u001b[0mcompat\u001b[0m \u001b[0;32mimport\u001b[0m \u001b[0mv2\u001b[0m\u001b[0;34m\u001b[0m\u001b[0;34m\u001b[0m\u001b[0m\n\u001b[1;32m     10\u001b[0m \u001b[0;32mfrom\u001b[0m \u001b[0mtensorflow\u001b[0m\u001b[0;34m.\u001b[0m\u001b[0mpython\u001b[0m\u001b[0;34m.\u001b[0m\u001b[0mcompat\u001b[0m\u001b[0;34m.\u001b[0m\u001b[0mcompat\u001b[0m \u001b[0;32mimport\u001b[0m \u001b[0mforward_compatibility_horizon\u001b[0m \u001b[0;31m# line: 125\u001b[0m\u001b[0;34m\u001b[0m\u001b[0;34m\u001b[0m\u001b[0m\n",
            "\u001b[0;32m/usr/local/lib/python3.11/dist-packages/tensorflow/_api/v2/compat/v1/compat/v1/__init__.py\u001b[0m in \u001b[0;36m<module>\u001b[0;34m\u001b[0m\n\u001b[1;32m     45\u001b[0m \u001b[0;32mfrom\u001b[0m \u001b[0mtensorflow\u001b[0m\u001b[0;34m.\u001b[0m\u001b[0m_api\u001b[0m\u001b[0;34m.\u001b[0m\u001b[0mv2\u001b[0m\u001b[0;34m.\u001b[0m\u001b[0mcompat\u001b[0m\u001b[0;34m.\u001b[0m\u001b[0mv1\u001b[0m \u001b[0;32mimport\u001b[0m \u001b[0mlayers\u001b[0m\u001b[0;34m\u001b[0m\u001b[0;34m\u001b[0m\u001b[0m\n\u001b[1;32m     46\u001b[0m \u001b[0;32mfrom\u001b[0m \u001b[0mtensorflow\u001b[0m\u001b[0;34m.\u001b[0m\u001b[0m_api\u001b[0m\u001b[0;34m.\u001b[0m\u001b[0mv2\u001b[0m\u001b[0;34m.\u001b[0m\u001b[0mcompat\u001b[0m\u001b[0;34m.\u001b[0m\u001b[0mv1\u001b[0m \u001b[0;32mimport\u001b[0m \u001b[0mlinalg\u001b[0m\u001b[0;34m\u001b[0m\u001b[0;34m\u001b[0m\u001b[0m\n\u001b[0;32m---> 47\u001b[0;31m \u001b[0;32mfrom\u001b[0m \u001b[0mtensorflow\u001b[0m\u001b[0;34m.\u001b[0m\u001b[0m_api\u001b[0m\u001b[0;34m.\u001b[0m\u001b[0mv2\u001b[0m\u001b[0;34m.\u001b[0m\u001b[0mcompat\u001b[0m\u001b[0;34m.\u001b[0m\u001b[0mv1\u001b[0m \u001b[0;32mimport\u001b[0m \u001b[0mlite\u001b[0m\u001b[0;34m\u001b[0m\u001b[0;34m\u001b[0m\u001b[0m\n\u001b[0m\u001b[1;32m     48\u001b[0m \u001b[0;32mfrom\u001b[0m \u001b[0mtensorflow\u001b[0m\u001b[0;34m.\u001b[0m\u001b[0m_api\u001b[0m\u001b[0;34m.\u001b[0m\u001b[0mv2\u001b[0m\u001b[0;34m.\u001b[0m\u001b[0mcompat\u001b[0m\u001b[0;34m.\u001b[0m\u001b[0mv1\u001b[0m \u001b[0;32mimport\u001b[0m \u001b[0mlogging\u001b[0m\u001b[0;34m\u001b[0m\u001b[0;34m\u001b[0m\u001b[0m\n\u001b[1;32m     49\u001b[0m \u001b[0;32mfrom\u001b[0m \u001b[0mtensorflow\u001b[0m\u001b[0;34m.\u001b[0m\u001b[0m_api\u001b[0m\u001b[0;34m.\u001b[0m\u001b[0mv2\u001b[0m\u001b[0;34m.\u001b[0m\u001b[0mcompat\u001b[0m\u001b[0;34m.\u001b[0m\u001b[0mv1\u001b[0m \u001b[0;32mimport\u001b[0m \u001b[0mlookup\u001b[0m\u001b[0;34m\u001b[0m\u001b[0;34m\u001b[0m\u001b[0m\n",
            "\u001b[0;32m/usr/local/lib/python3.11/dist-packages/tensorflow/_api/v2/compat/v1/lite/__init__.py\u001b[0m in \u001b[0;36m<module>\u001b[0;34m\u001b[0m\n\u001b[1;32m      7\u001b[0m \u001b[0;34m\u001b[0m\u001b[0m\n\u001b[1;32m      8\u001b[0m \u001b[0;32mfrom\u001b[0m \u001b[0mtensorflow\u001b[0m\u001b[0;34m.\u001b[0m\u001b[0m_api\u001b[0m\u001b[0;34m.\u001b[0m\u001b[0mv2\u001b[0m\u001b[0;34m.\u001b[0m\u001b[0mcompat\u001b[0m\u001b[0;34m.\u001b[0m\u001b[0mv1\u001b[0m\u001b[0;34m.\u001b[0m\u001b[0mlite\u001b[0m \u001b[0;32mimport\u001b[0m \u001b[0mconstants\u001b[0m\u001b[0;34m\u001b[0m\u001b[0;34m\u001b[0m\u001b[0m\n\u001b[0;32m----> 9\u001b[0;31m \u001b[0;32mfrom\u001b[0m \u001b[0mtensorflow\u001b[0m\u001b[0;34m.\u001b[0m\u001b[0m_api\u001b[0m\u001b[0;34m.\u001b[0m\u001b[0mv2\u001b[0m\u001b[0;34m.\u001b[0m\u001b[0mcompat\u001b[0m\u001b[0;34m.\u001b[0m\u001b[0mv1\u001b[0m\u001b[0;34m.\u001b[0m\u001b[0mlite\u001b[0m \u001b[0;32mimport\u001b[0m \u001b[0mexperimental\u001b[0m\u001b[0;34m\u001b[0m\u001b[0;34m\u001b[0m\u001b[0m\n\u001b[0m\u001b[1;32m     10\u001b[0m \u001b[0;32mfrom\u001b[0m \u001b[0mtensorflow\u001b[0m\u001b[0;34m.\u001b[0m\u001b[0mlite\u001b[0m\u001b[0;34m.\u001b[0m\u001b[0mpython\u001b[0m\u001b[0;34m.\u001b[0m\u001b[0mconvert\u001b[0m \u001b[0;32mimport\u001b[0m \u001b[0mOpsSet\u001b[0m \u001b[0;31m# line: 170\u001b[0m\u001b[0;34m\u001b[0m\u001b[0;34m\u001b[0m\u001b[0m\n\u001b[1;32m     11\u001b[0m \u001b[0;32mfrom\u001b[0m \u001b[0mtensorflow\u001b[0m\u001b[0;34m.\u001b[0m\u001b[0mlite\u001b[0m\u001b[0;34m.\u001b[0m\u001b[0mpython\u001b[0m\u001b[0;34m.\u001b[0m\u001b[0mconvert\u001b[0m \u001b[0;32mimport\u001b[0m \u001b[0mtoco_convert\u001b[0m \u001b[0;31m# line: 1083\u001b[0m\u001b[0;34m\u001b[0m\u001b[0;34m\u001b[0m\u001b[0m\n",
            "\u001b[0;32m/usr/local/lib/python3.11/dist-packages/tensorflow/_api/v2/compat/v1/lite/experimental/__init__.py\u001b[0m in \u001b[0;36m<module>\u001b[0;34m\u001b[0m\n\u001b[1;32m      6\u001b[0m \u001b[0;32mimport\u001b[0m \u001b[0msys\u001b[0m \u001b[0;32mas\u001b[0m \u001b[0m_sys\u001b[0m\u001b[0;34m\u001b[0m\u001b[0;34m\u001b[0m\u001b[0m\n\u001b[1;32m      7\u001b[0m \u001b[0;34m\u001b[0m\u001b[0m\n\u001b[0;32m----> 8\u001b[0;31m \u001b[0;32mfrom\u001b[0m \u001b[0mtensorflow\u001b[0m\u001b[0;34m.\u001b[0m\u001b[0m_api\u001b[0m\u001b[0;34m.\u001b[0m\u001b[0mv2\u001b[0m\u001b[0;34m.\u001b[0m\u001b[0mcompat\u001b[0m\u001b[0;34m.\u001b[0m\u001b[0mv1\u001b[0m\u001b[0;34m.\u001b[0m\u001b[0mlite\u001b[0m\u001b[0;34m.\u001b[0m\u001b[0mexperimental\u001b[0m \u001b[0;32mimport\u001b[0m \u001b[0mauthoring\u001b[0m\u001b[0;34m\u001b[0m\u001b[0;34m\u001b[0m\u001b[0m\n\u001b[0m\u001b[1;32m      9\u001b[0m \u001b[0;32mfrom\u001b[0m \u001b[0mtensorflow\u001b[0m\u001b[0;34m.\u001b[0m\u001b[0mlite\u001b[0m\u001b[0;34m.\u001b[0m\u001b[0mpython\u001b[0m\u001b[0;34m.\u001b[0m\u001b[0manalyzer\u001b[0m \u001b[0;32mimport\u001b[0m \u001b[0mModelAnalyzer\u001b[0m \u001b[0;32mas\u001b[0m \u001b[0mAnalyzer\u001b[0m \u001b[0;31m# line: 35\u001b[0m\u001b[0;34m\u001b[0m\u001b[0;34m\u001b[0m\u001b[0m\n\u001b[1;32m     10\u001b[0m \u001b[0;32mfrom\u001b[0m \u001b[0mtensorflow\u001b[0m\u001b[0;34m.\u001b[0m\u001b[0mlite\u001b[0m\u001b[0;34m.\u001b[0m\u001b[0mpython\u001b[0m\u001b[0;34m.\u001b[0m\u001b[0minterpreter\u001b[0m \u001b[0;32mimport\u001b[0m \u001b[0mOpResolverType\u001b[0m \u001b[0;31m# line: 303\u001b[0m\u001b[0;34m\u001b[0m\u001b[0;34m\u001b[0m\u001b[0m\n",
            "\u001b[0;32m/usr/local/lib/python3.11/dist-packages/tensorflow/_api/v2/compat/v1/lite/experimental/authoring/__init__.py\u001b[0m in \u001b[0;36m<module>\u001b[0;34m\u001b[0m\n\u001b[1;32m      6\u001b[0m \u001b[0;32mimport\u001b[0m \u001b[0msys\u001b[0m \u001b[0;32mas\u001b[0m \u001b[0m_sys\u001b[0m\u001b[0;34m\u001b[0m\u001b[0;34m\u001b[0m\u001b[0m\n\u001b[1;32m      7\u001b[0m \u001b[0;34m\u001b[0m\u001b[0m\n\u001b[0;32m----> 8\u001b[0;31m \u001b[0;32mfrom\u001b[0m \u001b[0mtensorflow\u001b[0m\u001b[0;34m.\u001b[0m\u001b[0mlite\u001b[0m\u001b[0;34m.\u001b[0m\u001b[0mpython\u001b[0m\u001b[0;34m.\u001b[0m\u001b[0mauthoring\u001b[0m\u001b[0;34m.\u001b[0m\u001b[0mauthoring\u001b[0m \u001b[0;32mimport\u001b[0m \u001b[0mcompatible\u001b[0m \u001b[0;31m# line: 263\u001b[0m\u001b[0;34m\u001b[0m\u001b[0;34m\u001b[0m\u001b[0m\n\u001b[0m\u001b[1;32m      9\u001b[0m \u001b[0;34m\u001b[0m\u001b[0m\n\u001b[1;32m     10\u001b[0m \u001b[0;32mfrom\u001b[0m \u001b[0mtensorflow\u001b[0m\u001b[0;34m.\u001b[0m\u001b[0mpython\u001b[0m\u001b[0;34m.\u001b[0m\u001b[0mutil\u001b[0m \u001b[0;32mimport\u001b[0m \u001b[0mmodule_wrapper\u001b[0m \u001b[0;32mas\u001b[0m \u001b[0m_module_wrapper\u001b[0m\u001b[0;34m\u001b[0m\u001b[0;34m\u001b[0m\u001b[0m\n",
            "\u001b[0;32m/usr/local/lib/python3.11/dist-packages/tensorflow/lite/python/authoring/authoring.py\u001b[0m in \u001b[0;36m<module>\u001b[0;34m\u001b[0m\n\u001b[1;32m     40\u001b[0m \u001b[0;32mfrom\u001b[0m \u001b[0mtensorflow\u001b[0m\u001b[0;34m.\u001b[0m\u001b[0mcompiler\u001b[0m\u001b[0;34m.\u001b[0m\u001b[0mmlir\u001b[0m\u001b[0;34m.\u001b[0m\u001b[0mlite\u001b[0m\u001b[0;34m.\u001b[0m\u001b[0mmetrics\u001b[0m \u001b[0;32mimport\u001b[0m \u001b[0mconverter_error_data_pb2\u001b[0m\u001b[0;34m\u001b[0m\u001b[0;34m\u001b[0m\u001b[0m\n\u001b[1;32m     41\u001b[0m \u001b[0;31m# pylint: disable=g-import-not-at-top\u001b[0m\u001b[0;34m\u001b[0m\u001b[0;34m\u001b[0m\u001b[0m\n\u001b[0;32m---> 42\u001b[0;31m \u001b[0;32mfrom\u001b[0m \u001b[0mtensorflow\u001b[0m\u001b[0;34m.\u001b[0m\u001b[0mlite\u001b[0m\u001b[0;34m.\u001b[0m\u001b[0mpython\u001b[0m \u001b[0;32mimport\u001b[0m \u001b[0mconvert\u001b[0m\u001b[0;34m\u001b[0m\u001b[0;34m\u001b[0m\u001b[0m\n\u001b[0m\u001b[1;32m     43\u001b[0m \u001b[0;32mfrom\u001b[0m \u001b[0mtensorflow\u001b[0m\u001b[0;34m.\u001b[0m\u001b[0mlite\u001b[0m\u001b[0;34m.\u001b[0m\u001b[0mpython\u001b[0m \u001b[0;32mimport\u001b[0m \u001b[0mlite\u001b[0m\u001b[0;34m\u001b[0m\u001b[0;34m\u001b[0m\u001b[0m\n\u001b[1;32m     44\u001b[0m \u001b[0;32mfrom\u001b[0m \u001b[0mtensorflow\u001b[0m\u001b[0;34m.\u001b[0m\u001b[0mpython\u001b[0m\u001b[0;34m.\u001b[0m\u001b[0mutil\u001b[0m\u001b[0;34m.\u001b[0m\u001b[0mtf_export\u001b[0m \u001b[0;32mimport\u001b[0m \u001b[0mtf_export\u001b[0m \u001b[0;32mas\u001b[0m \u001b[0m_tf_export\u001b[0m\u001b[0;34m\u001b[0m\u001b[0;34m\u001b[0m\u001b[0m\n",
            "\u001b[0;32m/usr/local/lib/python3.11/dist-packages/tensorflow/lite/python/convert.py\u001b[0m in \u001b[0;36m<module>\u001b[0;34m\u001b[0m\n\u001b[1;32m     33\u001b[0m \u001b[0;32mfrom\u001b[0m \u001b[0mtensorflow\u001b[0m\u001b[0;34m.\u001b[0m\u001b[0mcompiler\u001b[0m\u001b[0;34m.\u001b[0m\u001b[0mmlir\u001b[0m\u001b[0;34m.\u001b[0m\u001b[0mquantization\u001b[0m\u001b[0;34m.\u001b[0m\u001b[0mstablehlo\u001b[0m \u001b[0;32mimport\u001b[0m \u001b[0mquantization_options_pb2\u001b[0m \u001b[0;32mas\u001b[0m \u001b[0mquant_opts_pb2\u001b[0m\u001b[0;34m\u001b[0m\u001b[0;34m\u001b[0m\u001b[0m\n\u001b[1;32m     34\u001b[0m \u001b[0;32mfrom\u001b[0m \u001b[0mtensorflow\u001b[0m\u001b[0;34m.\u001b[0m\u001b[0mlite\u001b[0m\u001b[0;34m.\u001b[0m\u001b[0mpython\u001b[0m \u001b[0;32mimport\u001b[0m \u001b[0mlite_constants\u001b[0m\u001b[0;34m\u001b[0m\u001b[0;34m\u001b[0m\u001b[0m\n\u001b[0;32m---> 35\u001b[0;31m \u001b[0;32mfrom\u001b[0m \u001b[0mtensorflow\u001b[0m\u001b[0;34m.\u001b[0m\u001b[0mlite\u001b[0m\u001b[0;34m.\u001b[0m\u001b[0mpython\u001b[0m \u001b[0;32mimport\u001b[0m \u001b[0mutil\u001b[0m\u001b[0;34m\u001b[0m\u001b[0;34m\u001b[0m\u001b[0m\n\u001b[0m\u001b[1;32m     36\u001b[0m \u001b[0;32mfrom\u001b[0m \u001b[0mtensorflow\u001b[0m\u001b[0;34m.\u001b[0m\u001b[0mlite\u001b[0m\u001b[0;34m.\u001b[0m\u001b[0mpython\u001b[0m\u001b[0;34m.\u001b[0m\u001b[0mconvert_phase\u001b[0m \u001b[0;32mimport\u001b[0m \u001b[0mComponent\u001b[0m\u001b[0;34m\u001b[0m\u001b[0;34m\u001b[0m\u001b[0m\n\u001b[1;32m     37\u001b[0m \u001b[0;32mfrom\u001b[0m \u001b[0mtensorflow\u001b[0m\u001b[0;34m.\u001b[0m\u001b[0mlite\u001b[0m\u001b[0;34m.\u001b[0m\u001b[0mpython\u001b[0m\u001b[0;34m.\u001b[0m\u001b[0mconvert_phase\u001b[0m \u001b[0;32mimport\u001b[0m \u001b[0mconvert_phase\u001b[0m\u001b[0;34m\u001b[0m\u001b[0;34m\u001b[0m\u001b[0m\n",
            "\u001b[0;32m/usr/local/lib/python3.11/dist-packages/tensorflow/lite/python/util.py\u001b[0m in \u001b[0;36m<module>\u001b[0;34m\u001b[0m\n\u001b[1;32m     51\u001b[0m \u001b[0;31m# pylint: disable=unused-import\u001b[0m\u001b[0;34m\u001b[0m\u001b[0;34m\u001b[0m\u001b[0m\n\u001b[1;32m     52\u001b[0m \u001b[0;32mtry\u001b[0m\u001b[0;34m:\u001b[0m\u001b[0;34m\u001b[0m\u001b[0;34m\u001b[0m\u001b[0m\n\u001b[0;32m---> 53\u001b[0;31m   \u001b[0;32mfrom\u001b[0m \u001b[0mjax\u001b[0m \u001b[0;32mimport\u001b[0m \u001b[0mjit\u001b[0m \u001b[0;32mas\u001b[0m \u001b[0m_jit\u001b[0m\u001b[0;34m\u001b[0m\u001b[0;34m\u001b[0m\u001b[0m\n\u001b[0m\u001b[1;32m     54\u001b[0m \u001b[0;32mexcept\u001b[0m \u001b[0mImportError\u001b[0m\u001b[0;34m:\u001b[0m\u001b[0;34m\u001b[0m\u001b[0;34m\u001b[0m\u001b[0m\n\u001b[1;32m     55\u001b[0m   \u001b[0m_jit\u001b[0m \u001b[0;34m=\u001b[0m \u001b[0;32mNone\u001b[0m\u001b[0;34m\u001b[0m\u001b[0;34m\u001b[0m\u001b[0m\n",
            "\u001b[0;32m/usr/local/lib/python3.11/dist-packages/jax/__init__.py\u001b[0m in \u001b[0;36m<module>\u001b[0;34m\u001b[0m\n\u001b[1;32m     35\u001b[0m \u001b[0;34m\u001b[0m\u001b[0m\n\u001b[1;32m     36\u001b[0m \u001b[0;31m# Force early import, allowing use of `jax.core` after importing `jax`.\u001b[0m\u001b[0;34m\u001b[0m\u001b[0;34m\u001b[0m\u001b[0m\n\u001b[0;32m---> 37\u001b[0;31m \u001b[0;32mimport\u001b[0m \u001b[0mjax\u001b[0m\u001b[0;34m.\u001b[0m\u001b[0mcore\u001b[0m \u001b[0;32mas\u001b[0m \u001b[0m_core\u001b[0m\u001b[0;34m\u001b[0m\u001b[0;34m\u001b[0m\u001b[0m\n\u001b[0m\u001b[1;32m     38\u001b[0m \u001b[0;32mdel\u001b[0m \u001b[0m_core\u001b[0m\u001b[0;34m\u001b[0m\u001b[0;34m\u001b[0m\u001b[0m\n\u001b[1;32m     39\u001b[0m \u001b[0;34m\u001b[0m\u001b[0m\n",
            "\u001b[0;32m/usr/local/lib/python3.11/dist-packages/jax/core.py\u001b[0m in \u001b[0;36m<module>\u001b[0;34m\u001b[0m\n\u001b[1;32m     16\u001b[0m \u001b[0;31m# See PEP 484 & https://github.com/jax-ml/jax/issues/7570\u001b[0m\u001b[0;34m\u001b[0m\u001b[0;34m\u001b[0m\u001b[0m\n\u001b[1;32m     17\u001b[0m \u001b[0;34m\u001b[0m\u001b[0m\n\u001b[0;32m---> 18\u001b[0;31m from jax._src.core import (\n\u001b[0m\u001b[1;32m     19\u001b[0m   \u001b[0mAbstractToken\u001b[0m \u001b[0;32mas\u001b[0m \u001b[0mAbstractToken\u001b[0m\u001b[0;34m,\u001b[0m\u001b[0;34m\u001b[0m\u001b[0;34m\u001b[0m\u001b[0m\n\u001b[1;32m     20\u001b[0m   \u001b[0mAbstractValue\u001b[0m \u001b[0;32mas\u001b[0m \u001b[0mAbstractValue\u001b[0m\u001b[0;34m,\u001b[0m\u001b[0;34m\u001b[0m\u001b[0;34m\u001b[0m\u001b[0m\n",
            "\u001b[0;32m/usr/local/lib/python3.11/dist-packages/jax/_src/core.py\u001b[0m in \u001b[0;36m<module>\u001b[0;34m\u001b[0m\n\u001b[1;32m     35\u001b[0m \u001b[0;32mimport\u001b[0m \u001b[0mnumpy\u001b[0m \u001b[0;32mas\u001b[0m \u001b[0mnp\u001b[0m\u001b[0;34m\u001b[0m\u001b[0;34m\u001b[0m\u001b[0m\n\u001b[1;32m     36\u001b[0m \u001b[0;34m\u001b[0m\u001b[0m\n\u001b[0;32m---> 37\u001b[0;31m \u001b[0;32mfrom\u001b[0m \u001b[0mjax\u001b[0m\u001b[0;34m.\u001b[0m\u001b[0m_src\u001b[0m \u001b[0;32mimport\u001b[0m \u001b[0mdtypes\u001b[0m\u001b[0;34m\u001b[0m\u001b[0;34m\u001b[0m\u001b[0m\n\u001b[0m\u001b[1;32m     38\u001b[0m \u001b[0;32mfrom\u001b[0m \u001b[0mjax\u001b[0m\u001b[0;34m.\u001b[0m\u001b[0m_src\u001b[0m \u001b[0;32mimport\u001b[0m \u001b[0mconfig\u001b[0m\u001b[0;34m\u001b[0m\u001b[0;34m\u001b[0m\u001b[0m\n\u001b[1;32m     39\u001b[0m \u001b[0;32mfrom\u001b[0m \u001b[0mjax\u001b[0m\u001b[0;34m.\u001b[0m\u001b[0m_src\u001b[0m \u001b[0;32mimport\u001b[0m \u001b[0meffects\u001b[0m\u001b[0;34m\u001b[0m\u001b[0;34m\u001b[0m\u001b[0m\n",
            "\u001b[0;32m/usr/local/lib/python3.11/dist-packages/jax/_src/dtypes.py\u001b[0m in \u001b[0;36m<module>\u001b[0;34m\u001b[0m\n\u001b[1;32m    519\u001b[0m \u001b[0;31m# StringDType to be used in there.\u001b[0m\u001b[0;34m\u001b[0m\u001b[0;34m\u001b[0m\u001b[0m\n\u001b[1;32m    520\u001b[0m \u001b[0m_string_types\u001b[0m\u001b[0;34m:\u001b[0m \u001b[0mlist\u001b[0m\u001b[0;34m[\u001b[0m\u001b[0mJAXType\u001b[0m\u001b[0;34m]\u001b[0m \u001b[0;34m=\u001b[0m \u001b[0;34m[\u001b[0m\u001b[0;34m]\u001b[0m\u001b[0;34m\u001b[0m\u001b[0;34m\u001b[0m\u001b[0m\n\u001b[0;32m--> 521\u001b[0;31m \u001b[0;32mif\u001b[0m \u001b[0mhasattr\u001b[0m\u001b[0;34m(\u001b[0m\u001b[0mnp\u001b[0m\u001b[0;34m.\u001b[0m\u001b[0mdtypes\u001b[0m\u001b[0;34m,\u001b[0m \u001b[0;34m'StringDType'\u001b[0m\u001b[0;34m)\u001b[0m \u001b[0;32mand\u001b[0m \u001b[0mxla_extension_version\u001b[0m \u001b[0;34m>=\u001b[0m \u001b[0;36m311\u001b[0m\u001b[0;34m:\u001b[0m\u001b[0;34m\u001b[0m\u001b[0;34m\u001b[0m\u001b[0m\n\u001b[0m\u001b[1;32m    522\u001b[0m   \u001b[0m_string_types\u001b[0m\u001b[0;34m:\u001b[0m \u001b[0mlist\u001b[0m\u001b[0;34m[\u001b[0m\u001b[0mJAXType\u001b[0m\u001b[0;34m]\u001b[0m \u001b[0;34m=\u001b[0m \u001b[0;34m[\u001b[0m\u001b[0mnp\u001b[0m\u001b[0;34m.\u001b[0m\u001b[0mdtypes\u001b[0m\u001b[0;34m.\u001b[0m\u001b[0mStringDType\u001b[0m\u001b[0;34m(\u001b[0m\u001b[0;34m)\u001b[0m\u001b[0;34m]\u001b[0m  \u001b[0;31m# type: ignore\u001b[0m\u001b[0;34m\u001b[0m\u001b[0;34m\u001b[0m\u001b[0m\n\u001b[1;32m    523\u001b[0m \u001b[0;34m\u001b[0m\u001b[0m\n",
            "\u001b[0;32m/usr/local/lib/python3.11/dist-packages/numpy/__init__.py\u001b[0m in \u001b[0;36m__getattr__\u001b[0;34m(attr)\u001b[0m\n",
            "\u001b[0;31mAttributeError\u001b[0m: module 'numpy' has no attribute 'dtypes'"
          ]
        }
      ]
    },
    {
      "cell_type": "code",
      "source": [
        "train_directory = os.path.join(base_path, \"Emotions Dataset\", \"Emotions Dataset\", \"train\")\n",
        "val_directory = os.path.join(base_path, \"Emotions Dataset\", \"Emotions Dataset\", \"test\")\n",
        "\n",
        "CLASS_NAMES=['angry','happy','sad']"
      ],
      "metadata": {
        "execution": {
          "iopub.status.busy": "2024-03-22T12:37:37.226984Z",
          "iopub.execute_input": "2024-03-22T12:37:37.228065Z",
          "iopub.status.idle": "2024-03-22T12:37:37.232897Z",
          "shell.execute_reply.started": "2024-03-22T12:37:37.228024Z",
          "shell.execute_reply": "2024-03-22T12:37:37.231622Z"
        },
        "trusted": true,
        "id": "chkI3-kRX2k5"
      },
      "execution_count": null,
      "outputs": []
    },
    {
      "cell_type": "code",
      "source": [
        "CONFIGURATION = {\n",
        "    \"BATCH_SIZE\": 32,\n",
        "    \"IM_SIZE\": 256,\n",
        "}"
      ],
      "metadata": {
        "execution": {
          "iopub.status.busy": "2024-03-22T12:37:38.339976Z",
          "iopub.execute_input": "2024-03-22T12:37:38.340926Z",
          "iopub.status.idle": "2024-03-22T12:37:38.345838Z",
          "shell.execute_reply.started": "2024-03-22T12:37:38.34088Z",
          "shell.execute_reply": "2024-03-22T12:37:38.345015Z"
        },
        "trusted": true,
        "id": "poPxW9SNX2k6"
      },
      "execution_count": null,
      "outputs": []
    },
    {
      "cell_type": "code",
      "source": [
        "train_dataset = tf.keras.utils.image_dataset_from_directory(\n",
        "    train_directory,\n",
        "    labels='inferred',\n",
        "    label_mode='int',\n",
        "    class_names=CLASS_NAMES,\n",
        "    color_mode='rgb',\n",
        "    batch_size=CONFIGURATION[\"BATCH_SIZE\"],\n",
        "    image_size=(CONFIGURATION[\"IM_SIZE\"], CONFIGURATION[\"IM_SIZE\"]),\n",
        "    shuffle=True,\n",
        "    seed=99\n",
        ")\n"
      ],
      "metadata": {
        "execution": {
          "iopub.status.busy": "2024-03-22T12:37:39.263912Z",
          "iopub.execute_input": "2024-03-22T12:37:39.264503Z",
          "iopub.status.idle": "2024-03-22T12:37:43.949853Z",
          "shell.execute_reply.started": "2024-03-22T12:37:39.264472Z",
          "shell.execute_reply": "2024-03-22T12:37:43.948975Z"
        },
        "trusted": true,
        "id": "CbYIdJCkX2k6"
      },
      "execution_count": null,
      "outputs": []
    },
    {
      "cell_type": "code",
      "source": [
        "val_dataset = tf.keras.utils.image_dataset_from_directory(\n",
        "    val_directory,\n",
        "    labels='inferred',\n",
        "    label_mode='int',\n",
        "    class_names=CLASS_NAMES,\n",
        "    color_mode='rgb',\n",
        "    batch_size=CONFIGURATION[\"BATCH_SIZE\"],\n",
        "    image_size=(CONFIGURATION[\"IM_SIZE\"], CONFIGURATION[\"IM_SIZE\"]),\n",
        "    shuffle=True,\n",
        "    seed=99\n",
        ")\n"
      ],
      "metadata": {
        "execution": {
          "iopub.status.busy": "2024-03-22T12:37:50.154229Z",
          "iopub.execute_input": "2024-03-22T12:37:50.155019Z",
          "iopub.status.idle": "2024-03-22T12:37:51.865787Z",
          "shell.execute_reply.started": "2024-03-22T12:37:50.154977Z",
          "shell.execute_reply": "2024-03-22T12:37:51.864722Z"
        },
        "trusted": true,
        "id": "2ko2FAYQX2k6"
      },
      "execution_count": null,
      "outputs": []
    },
    {
      "cell_type": "code",
      "source": [
        "CONFIGURATION = {\n",
        "    \"BATCH_SIZE\": 32,\n",
        "    \"IM_SIZE\": 256,\n",
        "    \"LEARNING_RATE\": 1e-3,\n",
        "#     \"N_EPOCHS\": 20,\n",
        "    \"N_EPOCHS\": 5,\n",
        "    \"DROPOUT_RATE\": 0.0,\n",
        "    \"REGULARIZATION_RATE\": 0.0,\n",
        "    \"N_FILTERS\": 6,\n",
        "    \"KERNEL_SIZE\": 3,\n",
        "    \"N_STRIDES\": 1,\n",
        "    \"POOL_SIZE\": 2,\n",
        "    \"N_DENSE_1\": 1024,\n",
        "    \"N_DENSE_2\": 128,\n",
        "    \"NUM_CLASSES\": 3,\n",
        "    \"PATCH_SIZE\": 16,\n",
        "    \"PROJ_DIM\": 768,\n",
        "    \"CLASS_NAMES\": [\"angry\", \"happy\", \"sad\"],\n",
        "}"
      ],
      "metadata": {
        "execution": {
          "iopub.status.busy": "2024-03-22T12:37:53.642922Z",
          "iopub.execute_input": "2024-03-22T12:37:53.644143Z",
          "iopub.status.idle": "2024-03-22T12:37:53.651292Z",
          "shell.execute_reply.started": "2024-03-22T12:37:53.644106Z",
          "shell.execute_reply": "2024-03-22T12:37:53.650131Z"
        },
        "trusted": true,
        "id": "EefTEZDmX2k7"
      },
      "execution_count": null,
      "outputs": []
    },
    {
      "cell_type": "code",
      "source": [
        "train = tf.keras.utils.image_dataset_from_directory(\n",
        "    train_directory,\n",
        "    labels='inferred',\n",
        "    label_mode='categorical',\n",
        "    class_names=CONFIGURATION[\"CLASS_NAMES\"],\n",
        "    color_mode='rgb',\n",
        "    batch_size=CONFIGURATION[\"BATCH_SIZE\"],\n",
        "    image_size=(CONFIGURATION[\"IM_SIZE\"], CONFIGURATION[\"IM_SIZE\"]),\n",
        "    shuffle=True,\n",
        "    seed=99,\n",
        ")"
      ],
      "metadata": {
        "execution": {
          "iopub.status.busy": "2024-03-22T12:37:54.800131Z",
          "iopub.execute_input": "2024-03-22T12:37:54.800526Z",
          "iopub.status.idle": "2024-03-22T12:37:55.216275Z",
          "shell.execute_reply.started": "2024-03-22T12:37:54.800495Z",
          "shell.execute_reply": "2024-03-22T12:37:55.215055Z"
        },
        "trusted": true,
        "id": "mT8LjalCX2k7"
      },
      "execution_count": null,
      "outputs": []
    },
    {
      "cell_type": "code",
      "source": [
        "val = tf.keras.utils.image_dataset_from_directory(\n",
        "    val_directory,\n",
        "    labels='inferred',\n",
        "    label_mode='categorical',\n",
        "    class_names=CONFIGURATION[\"CLASS_NAMES\"],\n",
        "    color_mode='rgb',\n",
        "    batch_size=1,#CONFIGURATION[\"BATCH_SIZE\"],\n",
        "    image_size=(CONFIGURATION[\"IM_SIZE\"], CONFIGURATION[\"IM_SIZE\"]),\n",
        "    shuffle=True,\n",
        "    seed=99,\n",
        ")"
      ],
      "metadata": {
        "execution": {
          "iopub.status.busy": "2024-03-22T12:37:56.015545Z",
          "iopub.execute_input": "2024-03-22T12:37:56.015948Z",
          "iopub.status.idle": "2024-03-22T12:37:56.198176Z",
          "shell.execute_reply.started": "2024-03-22T12:37:56.015912Z",
          "shell.execute_reply": "2024-03-22T12:37:56.196957Z"
        },
        "trusted": true,
        "id": "OGPc0NpoX2k7"
      },
      "execution_count": null,
      "outputs": []
    },
    {
      "cell_type": "code",
      "source": [
        "train_dataset = tf.keras.utils.image_dataset_from_directory(\n",
        "    train_directory,\n",
        "    labels='inferred',\n",
        "    label_mode='categorical',\n",
        "    class_names=CLASS_NAMES,\n",
        "    color_mode='rgb',\n",
        "    batch_size=CONFIGURATION[\"BATCH_SIZE\"],\n",
        "    image_size=(CONFIGURATION[\"IM_SIZE\"], CONFIGURATION[\"IM_SIZE\"]),\n",
        "    shuffle=True,\n",
        "    seed=99\n",
        ")\n"
      ],
      "metadata": {
        "execution": {
          "iopub.status.busy": "2024-03-22T12:37:57.892048Z",
          "iopub.execute_input": "2024-03-22T12:37:57.892499Z",
          "iopub.status.idle": "2024-03-22T12:37:58.310955Z",
          "shell.execute_reply.started": "2024-03-22T12:37:57.892467Z",
          "shell.execute_reply": "2024-03-22T12:37:58.310149Z"
        },
        "trusted": true,
        "id": "_sGwwyYhX2k8"
      },
      "execution_count": null,
      "outputs": []
    },
    {
      "cell_type": "code",
      "source": [
        "val_dataset = tf.keras.utils.image_dataset_from_directory(\n",
        "    val_directory,\n",
        "    labels='inferred',\n",
        "    label_mode='categorical',\n",
        "    class_names=CLASS_NAMES,\n",
        "    color_mode='rgb',\n",
        "    batch_size=CONFIGURATION[\"BATCH_SIZE\"],\n",
        "    image_size=(CONFIGURATION[\"IM_SIZE\"], CONFIGURATION[\"IM_SIZE\"]),\n",
        "    shuffle=True,\n",
        "    seed=99\n",
        ")"
      ],
      "metadata": {
        "execution": {
          "iopub.status.busy": "2024-03-22T12:37:58.884018Z",
          "iopub.execute_input": "2024-03-22T12:37:58.884432Z",
          "iopub.status.idle": "2024-03-22T12:37:59.060577Z",
          "shell.execute_reply.started": "2024-03-22T12:37:58.884399Z",
          "shell.execute_reply": "2024-03-22T12:37:59.059381Z"
        },
        "trusted": true,
        "id": "i7piRsiHX2k8"
      },
      "execution_count": null,
      "outputs": []
    },
    {
      "cell_type": "markdown",
      "source": [
        "# Data Visualization"
      ],
      "metadata": {
        "id": "MFgscoUHX2k8"
      }
    },
    {
      "cell_type": "code",
      "source": [
        "plt.figure(figsize=(12,12))\n",
        "for images,labels in train_dataset.take(1):\n",
        "    for i in range(16):\n",
        "        ax=plt.subplot(4,4,i+1)\n",
        "        plt.imshow(images[i]/255)\n",
        "        plt.title(CLASS_NAMES[tf.argmax(labels[i],axis=0)])\n",
        "        plt.axis('off')"
      ],
      "metadata": {
        "execution": {
          "iopub.status.busy": "2024-03-22T12:38:17.416955Z",
          "iopub.execute_input": "2024-03-22T12:38:17.418145Z",
          "iopub.status.idle": "2024-03-22T12:38:19.900025Z",
          "shell.execute_reply.started": "2024-03-22T12:38:17.418099Z",
          "shell.execute_reply": "2024-03-22T12:38:19.89916Z"
        },
        "trusted": true,
        "id": "c6K-dxfSX2k9"
      },
      "execution_count": null,
      "outputs": []
    },
    {
      "cell_type": "code",
      "source": [
        "plt. figure(figsize = (12,12))\n",
        "for images, labels in train_dataset. take (1) :\n",
        "    for i in range (16):\n",
        "        ax = plt.subplot(4,4, i+1)\n",
        "        plt. imshow(images [i]/255)\n",
        "        plt. title(CLASS_NAMES[tf.argmax(labels[i], axis = 0).numpy ()])\n",
        "        plt.axis (\"off\")"
      ],
      "metadata": {
        "execution": {
          "iopub.status.busy": "2024-03-22T12:38:25.045703Z",
          "iopub.execute_input": "2024-03-22T12:38:25.046359Z",
          "iopub.status.idle": "2024-03-22T12:38:27.170587Z",
          "shell.execute_reply.started": "2024-03-22T12:38:25.046327Z",
          "shell.execute_reply": "2024-03-22T12:38:27.169368Z"
        },
        "trusted": true,
        "id": "tT2Pg5LKX2k9"
      },
      "execution_count": null,
      "outputs": []
    },
    {
      "cell_type": "markdown",
      "source": [
        "# Data Preparation"
      ],
      "metadata": {
        "id": "siha43m0X2k9"
      }
    },
    {
      "cell_type": "code",
      "source": [
        "training_dataset = (\n",
        "        train_dataset\n",
        "        .prefetch(tf.data.AUTOTUNE)\n",
        ")"
      ],
      "metadata": {
        "execution": {
          "iopub.status.busy": "2024-03-22T12:38:31.205933Z",
          "iopub.execute_input": "2024-03-22T12:38:31.206326Z",
          "iopub.status.idle": "2024-03-22T12:38:31.212942Z",
          "shell.execute_reply.started": "2024-03-22T12:38:31.206296Z",
          "shell.execute_reply": "2024-03-22T12:38:31.211749Z"
        },
        "trusted": true,
        "id": "s4ixqFhiX2k9"
      },
      "execution_count": null,
      "outputs": []
    },
    {
      "cell_type": "code",
      "source": [
        "training_dataset"
      ],
      "metadata": {
        "execution": {
          "iopub.status.busy": "2024-03-22T12:38:32.153878Z",
          "iopub.execute_input": "2024-03-22T12:38:32.154481Z",
          "iopub.status.idle": "2024-03-22T12:38:32.160977Z",
          "shell.execute_reply.started": "2024-03-22T12:38:32.154451Z",
          "shell.execute_reply": "2024-03-22T12:38:32.159859Z"
        },
        "trusted": true,
        "id": "_5OW6HFuX2k9"
      },
      "execution_count": null,
      "outputs": []
    },
    {
      "cell_type": "code",
      "source": [
        "validation_dataset = (\n",
        "        val_dataset\n",
        "        .prefetch(tf.data.AUTOTUNE)\n",
        ")"
      ],
      "metadata": {
        "execution": {
          "iopub.status.busy": "2024-03-22T12:38:32.825132Z",
          "iopub.execute_input": "2024-03-22T12:38:32.826043Z",
          "iopub.status.idle": "2024-03-22T12:38:32.832219Z",
          "shell.execute_reply.started": "2024-03-22T12:38:32.826008Z",
          "shell.execute_reply": "2024-03-22T12:38:32.831142Z"
        },
        "trusted": true,
        "id": "cFYQJLsgX2k9"
      },
      "execution_count": null,
      "outputs": []
    },
    {
      "cell_type": "code",
      "source": [
        "validation_dataset"
      ],
      "metadata": {
        "execution": {
          "iopub.status.busy": "2024-03-22T12:38:34.297601Z",
          "iopub.execute_input": "2024-03-22T12:38:34.299014Z",
          "iopub.status.idle": "2024-03-22T12:38:34.307324Z",
          "shell.execute_reply.started": "2024-03-22T12:38:34.298941Z",
          "shell.execute_reply": "2024-03-22T12:38:34.306041Z"
        },
        "trusted": true,
        "id": "_c2aHI5jX2k9"
      },
      "execution_count": null,
      "outputs": []
    },
    {
      "cell_type": "code",
      "source": [
        "resize_rescale_layers=tf.keras.Sequential([\n",
        "            Resizing(CONFIGURATION['IM_SIZE'],CONFIGURATION['IM_SIZE']),\n",
        "            Rescaling(1./255)\n",
        "])"
      ],
      "metadata": {
        "execution": {
          "iopub.status.busy": "2024-03-22T12:38:36.284947Z",
          "iopub.execute_input": "2024-03-22T12:38:36.28547Z",
          "iopub.status.idle": "2024-03-22T12:38:36.293088Z",
          "shell.execute_reply.started": "2024-03-22T12:38:36.285435Z",
          "shell.execute_reply": "2024-03-22T12:38:36.291776Z"
        },
        "trusted": true,
        "id": "Bqzcd9v5X2k9"
      },
      "execution_count": null,
      "outputs": []
    },
    {
      "cell_type": "markdown",
      "source": [
        "# Modelling"
      ],
      "metadata": {
        "id": "OpmN4UVJX2k9"
      }
    },
    {
      "cell_type": "code",
      "source": [
        "lenet_model = tf.keras.Sequential(\n",
        "    [\n",
        "#     InputLayer(input_shape = (None, None, 3), ),\n",
        "\n",
        "#     resize_rescale_layers,\n",
        "    InputLayer (input_shape = (CONFIGURATION[\"IM_SIZE\"], CONFIGURATION[ \"IM_SIZE\"], 3)),\n",
        "    Rescaling(1./255, name = \"rescaling\"),\n",
        "\n",
        "    Conv2D(filters = CONFIGURATION[\"N_FILTERS\"] , kernel_size = CONFIGURATION[\"KERNEL_SIZE\"], strides = CONFIGURATION[\"N_STRIDES\"] , padding='valid',\n",
        "          activation = 'relu',kernel_regularizer = L2(CONFIGURATION[\"REGULARIZATION_RATE\"])),\n",
        "    BatchNormalization(),\n",
        "    MaxPool2D (pool_size = CONFIGURATION[\"POOL_SIZE\"], strides= CONFIGURATION[\"N_STRIDES\"]*2),\n",
        "    Dropout(rate = CONFIGURATION[\"DROPOUT_RATE\"] ),\n",
        "\n",
        "    Conv2D(filters = CONFIGURATION[\"N_FILTERS\"]*2 + 4, kernel_size = CONFIGURATION[\"KERNEL_SIZE\"], strides=CONFIGURATION[\"N_STRIDES\"], padding='valid',\n",
        "          activation = 'relu', kernel_regularizer = L2(CONFIGURATION[\"REGULARIZATION_RATE\"])),\n",
        "    BatchNormalization(),\n",
        "    MaxPool2D (pool_size = CONFIGURATION[\"POOL_SIZE\"], strides= CONFIGURATION[\"N_STRIDES\"]*2),\n",
        "\n",
        "    Flatten(),\n",
        "\n",
        "    Dense( CONFIGURATION[\"N_DENSE_1\"], activation = \"relu\", kernel_regularizer = L2(CONFIGURATION[\"REGULARIZATION_RATE\"])),\n",
        "    BatchNormalization(),\n",
        "    Dropout(rate = CONFIGURATION[\"DROPOUT_RATE\"]),\n",
        "\n",
        "    Dense( CONFIGURATION['N_DENSE_2'], activation = \"relu\", kernel_regularizer = L2(CONFIGURATION[\"REGULARIZATION_RATE\"])),\n",
        "    BatchNormalization(),\n",
        "\n",
        "    Dense(CONFIGURATION[\"NUM_CLASSES\"], activation = \"softmax\"),\n",
        "\n",
        "])\n",
        "\n",
        "lenet_model.summary()"
      ],
      "metadata": {
        "execution": {
          "iopub.status.busy": "2024-03-22T12:38:38.437405Z",
          "iopub.execute_input": "2024-03-22T12:38:38.437846Z",
          "iopub.status.idle": "2024-03-22T12:38:39.106092Z",
          "shell.execute_reply.started": "2024-03-22T12:38:38.437813Z",
          "shell.execute_reply": "2024-03-22T12:38:39.104968Z"
        },
        "trusted": true,
        "id": "TNZx_iZFX2k9"
      },
      "execution_count": null,
      "outputs": []
    },
    {
      "cell_type": "markdown",
      "source": [
        "# Training"
      ],
      "metadata": {
        "id": "PlCd4pBbX2k-"
      }
    },
    {
      "cell_type": "code",
      "source": [
        "loss_function=tf.keras.losses.CategoricalCrossentropy()\n",
        "#loss_function = SparseCategoricalCrossentropy ()"
      ],
      "metadata": {
        "execution": {
          "iopub.status.busy": "2024-03-22T12:38:41.345164Z",
          "iopub.execute_input": "2024-03-22T12:38:41.345647Z",
          "iopub.status.idle": "2024-03-22T12:38:41.350903Z",
          "shell.execute_reply.started": "2024-03-22T12:38:41.34561Z",
          "shell.execute_reply": "2024-03-22T12:38:41.3497Z"
        },
        "trusted": true,
        "id": "5lmlhqD2X2k-"
      },
      "execution_count": null,
      "outputs": []
    },
    {
      "cell_type": "code",
      "source": [
        "# y_true = [[0, 1, 0], [0, 9, 1]]\n",
        "# y_pred = [[0.01,0.05,0.96], [0.1, 0.2, 0.7]]\n",
        "# # Using 'auto'T'sum_over_batch_size' reduction type.\n",
        "# cce = tf. keras. losses.CategoricalCrossentropy()\n",
        "# print (cce(y_true, y_pred). numpy ())"
      ],
      "metadata": {
        "execution": {
          "iopub.status.busy": "2024-03-22T12:38:41.936927Z",
          "iopub.execute_input": "2024-03-22T12:38:41.937876Z",
          "iopub.status.idle": "2024-03-22T12:38:41.94235Z",
          "shell.execute_reply.started": "2024-03-22T12:38:41.937837Z",
          "shell.execute_reply": "2024-03-22T12:38:41.941433Z"
        },
        "trusted": true,
        "id": "ZaEntRFxX2k-"
      },
      "execution_count": null,
      "outputs": []
    },
    {
      "cell_type": "code",
      "source": [
        "metrics=[tf.keras.metrics.CategoricalAccuracy(name='accuracy'),tf.keras.metrics.TopKCategoricalAccuracy(k=2,name='top_k_accurcay')]"
      ],
      "metadata": {
        "execution": {
          "iopub.status.busy": "2024-03-22T12:38:42.808776Z",
          "iopub.execute_input": "2024-03-22T12:38:42.809304Z",
          "iopub.status.idle": "2024-03-22T12:38:42.82199Z",
          "shell.execute_reply.started": "2024-03-22T12:38:42.80927Z",
          "shell.execute_reply": "2024-03-22T12:38:42.82059Z"
        },
        "trusted": true,
        "id": "OhILhLNLX2k-"
      },
      "execution_count": null,
      "outputs": []
    },
    {
      "cell_type": "code",
      "source": [
        "#lenet_model.compile(\n",
        "#                    optimizer=tf.keras.optimizers.Adam(learning_rate=CONFIGURATION['LEARNING_RATE']),\n",
        "#                    loss=loss_function,\n",
        "#                    metrics=metrics\n",
        "#                                    )"
      ],
      "metadata": {
        "execution": {
          "iopub.status.busy": "2024-03-22T12:38:43.776504Z",
          "iopub.execute_input": "2024-03-22T12:38:43.776929Z",
          "iopub.status.idle": "2024-03-22T12:38:43.787755Z",
          "shell.execute_reply.started": "2024-03-22T12:38:43.776898Z",
          "shell.execute_reply": "2024-03-22T12:38:43.786415Z"
        },
        "trusted": true,
        "id": "mTuLhPvPX2k-"
      },
      "execution_count": null,
      "outputs": []
    },
    {
      "cell_type": "code",
      "source": [
        "#history= lenet_model.fit(\n",
        "#    training_dataset,\n",
        "#    validation_data=val_dataset,\n",
        "#    epochs=CONFIGURATION['N_EPOCHS'],\n",
        "#    verbose=1)"
      ],
      "metadata": {
        "execution": {
          "iopub.status.busy": "2024-03-22T12:38:52.264173Z",
          "iopub.execute_input": "2024-03-22T12:38:52.264563Z",
          "iopub.status.idle": "2024-03-22T13:10:11.094604Z",
          "shell.execute_reply.started": "2024-03-22T12:38:52.264535Z",
          "shell.execute_reply": "2024-03-22T13:10:11.093685Z"
        },
        "trusted": true,
        "id": "zg9Vu5p0X2k-"
      },
      "execution_count": null,
      "outputs": []
    },
    {
      "cell_type": "code",
      "source": [
        "# plt.plot(history.history['loss'])\n",
        "# plt.plot(history.history['val_loss'])\n",
        "# plt.title('Model_loss')\n",
        "# plt.ylabel('loss')\n",
        "# plt.xlabel('epoch')\n",
        "# plt.legend(['train_loss','val_loss'])\n",
        "# plt.show()"
      ],
      "metadata": {
        "execution": {
          "iopub.status.busy": "2024-03-22T13:10:43.98097Z",
          "iopub.execute_input": "2024-03-22T13:10:43.981416Z",
          "iopub.status.idle": "2024-03-22T13:10:44.275087Z",
          "shell.execute_reply.started": "2024-03-22T13:10:43.981387Z",
          "shell.execute_reply": "2024-03-22T13:10:44.274166Z"
        },
        "trusted": true,
        "id": "EfiTNFQ7X2k-"
      },
      "execution_count": null,
      "outputs": []
    },
    {
      "cell_type": "code",
      "source": [
        "# plt. plot (history. history['accuracy'])\n",
        "# plt. plot(history.history[ 'val_accuracy'])\n",
        "# plt. title( 'Model accuracy')\n",
        "# plt. ylabel( 'accuracy')\n",
        "# plt. xlabel( 'epoch')\n",
        "# plt. legend(['train_accuracy', 'val_accuracy'])\n",
        "# plt. show()"
      ],
      "metadata": {
        "execution": {
          "iopub.status.busy": "2024-03-22T13:10:45.174175Z",
          "iopub.execute_input": "2024-03-22T13:10:45.174538Z",
          "iopub.status.idle": "2024-03-22T13:10:45.459181Z",
          "shell.execute_reply.started": "2024-03-22T13:10:45.17451Z",
          "shell.execute_reply": "2024-03-22T13:10:45.458292Z"
        },
        "trusted": true,
        "id": "avO-zJv3X2k-"
      },
      "execution_count": null,
      "outputs": []
    },
    {
      "cell_type": "markdown",
      "source": [
        "# Evalution"
      ],
      "metadata": {
        "id": "kUMrLBgLX2k-"
      }
    },
    {
      "cell_type": "code",
      "source": [
        "#lenet_model. evaluate(validation_dataset)"
      ],
      "metadata": {
        "execution": {
          "iopub.status.busy": "2024-03-22T13:10:47.139527Z",
          "iopub.execute_input": "2024-03-22T13:10:47.139953Z",
          "iopub.status.idle": "2024-03-22T13:11:05.383374Z",
          "shell.execute_reply.started": "2024-03-22T13:10:47.139904Z",
          "shell.execute_reply": "2024-03-22T13:11:05.382259Z"
        },
        "trusted": true,
        "id": "IcrvNqUuX2k-"
      },
      "execution_count": null,
      "outputs": []
    },
    {
      "cell_type": "markdown",
      "source": [
        "# Testing"
      ],
      "metadata": {
        "id": "0iztDFdAX2k_"
      }
    },
    {
      "cell_type": "code",
      "source": [
        "lenet_model = tf.keras.Sequential(\n",
        "    [\n",
        "    InputLayer(input_shape = (None, None, 3), ),\n",
        "\n",
        "    resize_rescale_layers,\n",
        "#     InputLayer (input_shape = (CONFIGURATION[\"IM_SIZE\"], CONFIGURATION[ \"IM_SIZE\"], 3)),\n",
        "#     Rescaling(1./255, name = \"rescaling\"),\n",
        "\n",
        "    Conv2D(filters = CONFIGURATION[\"N_FILTERS\"] , kernel_size = CONFIGURATION[\"KERNEL_SIZE\"], strides = CONFIGURATION[\"N_STRIDES\"] , padding='valid',\n",
        "          activation = 'relu',kernel_regularizer = L2(CONFIGURATION[\"REGULARIZATION_RATE\"])),\n",
        "    BatchNormalization(),\n",
        "    MaxPool2D (pool_size = CONFIGURATION[\"POOL_SIZE\"], strides= CONFIGURATION[\"N_STRIDES\"]*2),\n",
        "    Dropout(rate = CONFIGURATION[\"DROPOUT_RATE\"] ),\n",
        "\n",
        "    Conv2D(filters = CONFIGURATION[\"N_FILTERS\"]*2 + 4, kernel_size = CONFIGURATION[\"KERNEL_SIZE\"], strides=CONFIGURATION[\"N_STRIDES\"], padding='valid',\n",
        "          activation = 'relu', kernel_regularizer = L2(CONFIGURATION[\"REGULARIZATION_RATE\"])),\n",
        "    BatchNormalization(),\n",
        "    MaxPool2D (pool_size = CONFIGURATION[\"POOL_SIZE\"], strides= CONFIGURATION[\"N_STRIDES\"]*2),\n",
        "\n",
        "    Flatten(),\n",
        "\n",
        "    Dense( CONFIGURATION[\"N_DENSE_1\"], activation = \"relu\", kernel_regularizer = L2(CONFIGURATION[\"REGULARIZATION_RATE\"])),\n",
        "    BatchNormalization(),\n",
        "    Dropout(rate = CONFIGURATION[\"DROPOUT_RATE\"]),\n",
        "\n",
        "    Dense( CONFIGURATION['N_DENSE_2'], activation = \"relu\", kernel_regularizer = L2(CONFIGURATION[\"REGULARIZATION_RATE\"])),\n",
        "    BatchNormalization(),\n",
        "\n",
        "    Dense(CONFIGURATION[\"NUM_CLASSES\"], activation = \"softmax\"),\n",
        "\n",
        "])\n",
        "\n",
        "lenet_model.summary()"
      ],
      "metadata": {
        "execution": {
          "iopub.status.busy": "2024-03-22T13:11:08.440096Z",
          "iopub.execute_input": "2024-03-22T13:11:08.440496Z",
          "iopub.status.idle": "2024-03-22T13:11:08.953452Z",
          "shell.execute_reply.started": "2024-03-22T13:11:08.440463Z",
          "shell.execute_reply": "2024-03-22T13:11:08.952065Z"
        },
        "trusted": true,
        "id": "VNnLrgpXX2k_"
      },
      "execution_count": null,
      "outputs": []
    },
    {
      "cell_type": "code",
      "source": [
        "import cv2\n",
        "import tensorflow as tf\n",
        "\n",
        "image_path = '/root/.cache/kagglehub/datasets/muhammadhananasghar/human-emotions-datasethes/versions/4/Emotions Dataset/Emotions Dataset/train/happy/100711.jpg'\n",
        "test_image = cv2.imread(image_path)\n",
        "\n",
        "# Step 1: Check if image was loaded correctly\n",
        "if test_image is None:\n",
        "    print(\"Failed to load image. Please check the path.\")\n",
        "else:\n",
        "    # Step 2: Resize to model input size\n",
        "    test_image = cv2.resize(test_image, (CONFIGURATION[\"IM_SIZE\"], CONFIGURATION[\"IM_SIZE\"]))\n",
        "\n",
        "    # Step 3: Convert BGR (OpenCV format) to RGB\n",
        "    test_image = cv2.cvtColor(test_image, cv2.COLOR_BGR2RGB)\n",
        "\n",
        "    # Step 4: Normalize and expand dimensions\n",
        "    im = tf.constant(test_image, dtype=tf.float32) / 255.0\n",
        "    im = tf.expand_dims(im, axis=0)  # Make it (1, height, width, 3)\n",
        "\n",
        "    # Step 5: Predict\n",
        "    prediction = lenet_model(im)\n",
        "    predicted_class = tf.argmax(prediction, axis=-1).numpy()[0]\n",
        "    print(f\"Predicted Emotion: {CLASS_NAMES[predicted_class]}\")\n"
      ],
      "metadata": {
        "execution": {
          "iopub.status.busy": "2024-03-22T13:11:10.073922Z",
          "iopub.execute_input": "2024-03-22T13:11:10.074329Z",
          "iopub.status.idle": "2024-03-22T13:11:10.134618Z",
          "shell.execute_reply.started": "2024-03-22T13:11:10.074299Z",
          "shell.execute_reply": "2024-03-22T13:11:10.13344Z"
        },
        "trusted": true,
        "id": "nbEoyM9XX2k_"
      },
      "execution_count": null,
      "outputs": []
    },
    {
      "cell_type": "code",
      "source": [
        "# pred=lenet_model.predict(im)\n",
        "# print(CONFIGURATION['CLASS_NAMES'][tf.argmax(pred,axis=-1)[0]])"
      ],
      "metadata": {
        "execution": {
          "iopub.status.busy": "2024-03-22T13:11:11.495449Z",
          "iopub.execute_input": "2024-03-22T13:11:11.495854Z",
          "iopub.status.idle": "2024-03-22T13:11:11.500558Z",
          "shell.execute_reply.started": "2024-03-22T13:11:11.495823Z",
          "shell.execute_reply": "2024-03-22T13:11:11.499744Z"
        },
        "trusted": true,
        "id": "EqtZFETXX2k_"
      },
      "execution_count": null,
      "outputs": []
    },
    {
      "cell_type": "code",
      "source": [
        "# test_image = cv2. imread(\"/root/.cache/kagglehub/datasets/muhammadhananasghar/human-emotions-datasethes/versions/4/Emotions Dataset/Emotions Dataset/train/happy/100711.jpg\")\n",
        "# im = tf. constant(test_image, dtype = tf. float32)\n",
        " #im = tf. expand_dims (im, axis = 0)\n",
        "#print(CLASS_NAMES[tf.argmax(lenet_model(im), axis = -1).numpy() [0]])"
      ],
      "metadata": {
        "execution": {
          "iopub.status.busy": "2024-03-22T13:11:12.000517Z",
          "iopub.execute_input": "2024-03-22T13:11:12.001169Z",
          "iopub.status.idle": "2024-03-22T13:11:12.005314Z",
          "shell.execute_reply.started": "2024-03-22T13:11:12.001136Z",
          "shell.execute_reply": "2024-03-22T13:11:12.004419Z"
        },
        "trusted": true,
        "id": "Ox-9c4P3X2lC"
      },
      "execution_count": null,
      "outputs": []
    },
    {
      "cell_type": "code",
      "source": [
        "CLASS_NAMES=['angry','happy','sad']\n",
        "test_image = cv2.imread('/root/.cache/kagglehub/datasets/muhammadhananasghar/human-emotions-datasethes/versions/4/Emotions Dataset/Emotions Dataset/train/happy/100711.jpg')\n",
        "\n",
        "im = tf.constant(test_image, dtype=tf.float32)\n",
        "im = tf.expand_dims(im, axis=0)\n",
        "\n",
        "predicted_class_index = tf.argmax(lenet_model(im), axis=-1).numpy()[0]\n",
        "predicted_class_name = CLASS_NAMES[predicted_class_index]\n",
        "print(predicted_class_name)\n"
      ],
      "metadata": {
        "execution": {
          "iopub.status.busy": "2024-03-22T13:11:12.502356Z",
          "iopub.execute_input": "2024-03-22T13:11:12.50294Z",
          "iopub.status.idle": "2024-03-22T13:11:12.557621Z",
          "shell.execute_reply.started": "2024-03-22T13:11:12.502907Z",
          "shell.execute_reply": "2024-03-22T13:11:12.556402Z"
        },
        "trusted": true,
        "id": "ZKAS0G5lX2lC"
      },
      "execution_count": null,
      "outputs": []
    },
    {
      "cell_type": "code",
      "source": [
        "# plt.figure(figsize = (12,12))\n",
        "\n",
        "# for images, labels in validation_dataset.take(1):\n",
        "#   for i in range(16):\n",
        "#     ax = plt.subplot(4,4, i+1)\n",
        "#     plt.imshow(images[i]/255.)\n",
        "\n",
        "#     plt.title(\"True Label - : \" + CONFIGURATION[\"CLASS_NAMES\"][tf.argmax(labels[i], axis = -1).numpy()]\n",
        "#               + \"\\n\" + \"Predicted Label - : \"\n",
        "#               + CONFIGURATION[\"CLASS_NAMES\"][int(tf.argmax(lenet_model(tf.expand_dims(images[i], axis = 0)), axis =-1).numpy()[0])] )\n",
        "#     plt.axis(\"off\")"
      ],
      "metadata": {
        "execution": {
          "iopub.status.busy": "2024-03-22T13:11:13.752479Z",
          "iopub.execute_input": "2024-03-22T13:11:13.752841Z",
          "iopub.status.idle": "2024-03-22T13:11:13.757705Z",
          "shell.execute_reply.started": "2024-03-22T13:11:13.752814Z",
          "shell.execute_reply": "2024-03-22T13:11:13.756479Z"
        },
        "trusted": true,
        "id": "6QjDqoefX2lC"
      },
      "execution_count": null,
      "outputs": []
    },
    {
      "cell_type": "code",
      "source": [
        "import cv2\n",
        "import matplotlib.pyplot as plt\n",
        "\n",
        "test_image = cv2.imread('/root/.cache/kagglehub/datasets/muhammadhananasghar/human-emotions-datasethes/versions/4/Emotions Dataset/Emotions Dataset/train/happy/100711.jpg')\n",
        "\n",
        "im = tf.constant(test_image, dtype=tf.float32)\n",
        "im = tf.expand_dims(im, axis=0)\n",
        "print(CLASS_NAMES[tf.argmax(lenet_model(im), axis=-1).numpy()[0]])\n",
        "\n",
        "plt.figure(figsize=(12, 12))\n",
        "\n",
        "for images, labels in validation_dataset.take(1):\n",
        "    for i in range(16):\n",
        "        ax = plt.subplot(4, 4, i + 1)\n",
        "        plt.imshow(images[i] / 255.)\n",
        "\n",
        "        plt.title(\"True Label - : \" + CONFIGURATION[\"CLASS_NAMES\"][tf.argmax(labels[i], axis=-1).numpy()] +\n",
        "                  \"\\n\" + \"Predicted Label - : \" +\n",
        "                  CONFIGURATION[\"CLASS_NAMES\"][int(tf.argmax(lenet_model(tf.expand_dims(images[i], axis=0)), axis=-1).numpy()[0])])\n",
        "        plt.axis(\"off\")\n"
      ],
      "metadata": {
        "execution": {
          "iopub.status.busy": "2024-03-22T13:11:14.14491Z",
          "iopub.execute_input": "2024-03-22T13:11:14.145347Z",
          "iopub.status.idle": "2024-03-22T13:11:17.240333Z",
          "shell.execute_reply.started": "2024-03-22T13:11:14.145316Z",
          "shell.execute_reply": "2024-03-22T13:11:17.23932Z"
        },
        "trusted": true,
        "id": "YPmWNTGyX2lC"
      },
      "execution_count": null,
      "outputs": []
    },
    {
      "cell_type": "markdown",
      "source": [
        "# Confusion Matrix"
      ],
      "metadata": {
        "id": "Gj-eslB3X2lC"
      }
    },
    {
      "cell_type": "code",
      "source": [
        "predicted = []\n",
        "labels = []\n",
        "for im, label in validation_dataset:\n",
        "    predicted. append (lenet_model (im))\n",
        "    labels. append (label.numpy())"
      ],
      "metadata": {
        "execution": {
          "iopub.status.busy": "2024-03-22T13:11:38.350281Z",
          "iopub.execute_input": "2024-03-22T13:11:38.351188Z",
          "iopub.status.idle": "2024-03-22T13:12:03.121423Z",
          "shell.execute_reply.started": "2024-03-22T13:11:38.35115Z",
          "shell.execute_reply": "2024-03-22T13:12:03.120316Z"
        },
        "trusted": true,
        "id": "QR4b1Bq-X2lD"
      },
      "execution_count": null,
      "outputs": []
    },
    {
      "cell_type": "code",
      "source": [
        "#print(labels)"
      ],
      "metadata": {
        "execution": {
          "iopub.status.busy": "2024-03-22T13:17:32.895736Z",
          "iopub.execute_input": "2024-03-22T13:17:32.896119Z",
          "iopub.status.idle": "2024-03-22T13:17:32.901034Z",
          "shell.execute_reply.started": "2024-03-22T13:17:32.89609Z",
          "shell.execute_reply": "2024-03-22T13:17:32.89992Z"
        },
        "trusted": true,
        "id": "jpqYD-60X2lD"
      },
      "execution_count": null,
      "outputs": []
    },
    {
      "cell_type": "code",
      "source": [
        "#print(np.argmax(labels))"
      ],
      "metadata": {
        "execution": {
          "iopub.status.busy": "2024-03-22T13:12:27.736996Z",
          "iopub.execute_input": "2024-03-22T13:12:27.737672Z",
          "iopub.status.idle": "2024-03-22T13:12:27.742516Z",
          "shell.execute_reply.started": "2024-03-22T13:12:27.737628Z",
          "shell.execute_reply": "2024-03-22T13:12:27.74121Z"
        },
        "trusted": true,
        "id": "hBaEhcDkX2lD"
      },
      "execution_count": null,
      "outputs": []
    },
    {
      "cell_type": "code",
      "source": [
        "print(np.argmax(labels[:2], axis = -1))"
      ],
      "metadata": {
        "execution": {
          "iopub.status.busy": "2024-03-22T13:12:28.918374Z",
          "iopub.execute_input": "2024-03-22T13:12:28.919026Z",
          "iopub.status.idle": "2024-03-22T13:12:28.925916Z",
          "shell.execute_reply.started": "2024-03-22T13:12:28.918983Z",
          "shell.execute_reply": "2024-03-22T13:12:28.924902Z"
        },
        "trusted": true,
        "id": "nktBUvanX2lD"
      },
      "execution_count": null,
      "outputs": []
    },
    {
      "cell_type": "code",
      "source": [
        "print(np.argmax(labels[:2], axis = -1).flatten())"
      ],
      "metadata": {
        "execution": {
          "iopub.status.busy": "2024-03-22T13:12:29.763658Z",
          "iopub.execute_input": "2024-03-22T13:12:29.764029Z",
          "iopub.status.idle": "2024-03-22T13:12:29.771103Z",
          "shell.execute_reply.started": "2024-03-22T13:12:29.764001Z",
          "shell.execute_reply": "2024-03-22T13:12:29.770026Z"
        },
        "trusted": true,
        "id": "EMiX84VSX2lD"
      },
      "execution_count": null,
      "outputs": []
    },
    {
      "cell_type": "code",
      "source": [
        "print(np.argmax(labels[:-1], axis = -1). flatten())\n",
        "print(np.argmax(predicted[: -1], axis = -1). flatten ())"
      ],
      "metadata": {
        "execution": {
          "iopub.status.busy": "2024-03-22T13:12:30.766249Z",
          "iopub.execute_input": "2024-03-22T13:12:30.766938Z",
          "iopub.status.idle": "2024-03-22T13:12:30.773798Z",
          "shell.execute_reply.started": "2024-03-22T13:12:30.766902Z",
          "shell.execute_reply": "2024-03-22T13:12:30.772578Z"
        },
        "trusted": true,
        "id": "UJ9769pyX2lD"
      },
      "execution_count": null,
      "outputs": []
    },
    {
      "cell_type": "code",
      "source": [
        "pred = np.argmax(predicted[:-1], axis = -1). flatten ()\n",
        "lab = np. argmax(labels [: -1], axis = -1).flatten ()"
      ],
      "metadata": {
        "execution": {
          "iopub.status.busy": "2024-03-22T13:12:31.63962Z",
          "iopub.execute_input": "2024-03-22T13:12:31.640065Z",
          "iopub.status.idle": "2024-03-22T13:12:31.64795Z",
          "shell.execute_reply.started": "2024-03-22T13:12:31.640026Z",
          "shell.execute_reply": "2024-03-22T13:12:31.646438Z"
        },
        "trusted": true,
        "id": "5MN0sQ0xX2lD"
      },
      "execution_count": null,
      "outputs": []
    },
    {
      "cell_type": "code",
      "source": [],
      "metadata": {
        "execution": {
          "iopub.status.busy": "2024-03-22T13:13:28.684934Z",
          "iopub.execute_input": "2024-03-22T13:13:28.685478Z",
          "iopub.status.idle": "2024-03-22T13:13:29.046267Z",
          "shell.execute_reply.started": "2024-03-22T13:13:28.685444Z",
          "shell.execute_reply": "2024-03-22T13:13:29.045266Z"
        },
        "trusted": true,
        "id": "kbwbLSe8X2lD"
      },
      "execution_count": null,
      "outputs": []
    },
    {
      "cell_type": "code",
      "source": [
        "predicted = []\n",
        "labels = []\n",
        "for im, label in validation_dataset:\n",
        "    predicted. append (lenet_model (im))\n",
        "    labels. append(label. numpy())"
      ],
      "metadata": {
        "execution": {
          "iopub.status.busy": "2024-03-22T13:13:32.122901Z",
          "iopub.execute_input": "2024-03-22T13:13:32.123305Z",
          "iopub.status.idle": "2024-03-22T13:13:55.226115Z",
          "shell.execute_reply.started": "2024-03-22T13:13:32.123274Z",
          "shell.execute_reply": "2024-03-22T13:13:55.224913Z"
        },
        "trusted": true,
        "id": "80mb_6nvX2lD"
      },
      "execution_count": null,
      "outputs": []
    },
    {
      "cell_type": "code",
      "source": [
        " #print (np. concatenate([np.argmax(labels[: -1], axis = -1).flatten(), np.argmax(labels[-1], axis = -1). flatten()])\n",
        "# print (np.concatenate([np. argmax(predicted[: -1], axis = -1). flatten(), np.argmax(predicted[-1], axis = -1). flatten()])"
      ],
      "metadata": {
        "execution": {
          "iopub.status.busy": "2024-03-22T13:15:01.584868Z",
          "iopub.execute_input": "2024-03-22T13:15:01.585496Z",
          "iopub.status.idle": "2024-03-22T13:15:01.591701Z",
          "shell.execute_reply.started": "2024-03-22T13:15:01.585449Z",
          "shell.execute_reply": "2024-03-22T13:15:01.590451Z"
        },
        "trusted": true,
        "id": "1x6Pn95SX2lE"
      },
      "execution_count": null,
      "outputs": []
    },
    {
      "cell_type": "code",
      "source": [
        "import numpy as np\n",
        "\n",
        "labels = np.random.randint(0, 10, size=(5,5))\n",
        "predicted = np.random.randint(0, 10, size=(5,5))\n",
        "\n",
        "def fix_concat(labels, predicted):\n",
        " return np.concatenate([np.argmax(labels[:-1], axis=-1).flatten(),\n",
        "                        np.argmax(labels[-1], axis=-1).flatten(),\n",
        "                        np.argmax(predicted[:-1], axis=-1).flatten(),\n",
        "                        np.argmax(predicted[-1], axis=-1).flatten()])\n",
        "\n",
        "result = fix_concat(labels.copy(), predicted.copy())\n",
        "print(result)\n"
      ],
      "metadata": {
        "execution": {
          "iopub.status.busy": "2024-03-22T13:15:02.253551Z",
          "iopub.execute_input": "2024-03-22T13:15:02.256384Z",
          "iopub.status.idle": "2024-03-22T13:15:02.272702Z",
          "shell.execute_reply.started": "2024-03-22T13:15:02.256344Z",
          "shell.execute_reply": "2024-03-22T13:15:02.271168Z"
        },
        "trusted": true,
        "id": "Eb_kSsS2X2lE"
      },
      "execution_count": null,
      "outputs": []
    },
    {
      "cell_type": "markdown",
      "source": [
        "# Data Augmentation"
      ],
      "metadata": {
        "id": "OfsErB3zX2lE"
      }
    },
    {
      "cell_type": "code",
      "source": [
        "### tf.keras.layer augment\n",
        "augment_layers = tf.keras.Sequential([\n",
        "RandomRotation (factor = (0.25, 0.2501), ),\n",
        "RandomFlip (mode= 'horizontal',),\n",
        "RandomContrast(factor=0.1),\n",
        "])"
      ],
      "metadata": {
        "execution": {
          "iopub.status.busy": "2024-03-22T13:15:09.462383Z",
          "iopub.execute_input": "2024-03-22T13:15:09.462941Z",
          "iopub.status.idle": "2024-03-22T13:15:09.474574Z",
          "shell.execute_reply.started": "2024-03-22T13:15:09.4629Z",
          "shell.execute_reply": "2024-03-22T13:15:09.473632Z"
        },
        "trusted": true,
        "id": "TGjQM0_5X2lE"
      },
      "execution_count": null,
      "outputs": []
    },
    {
      "cell_type": "code",
      "source": [
        "def augment_layer(image, label):\n",
        "    return augment_layers (image,training = True),"
      ],
      "metadata": {
        "execution": {
          "iopub.status.busy": "2024-03-22T13:16:58.01038Z",
          "iopub.execute_input": "2024-03-22T13:16:58.010798Z",
          "iopub.status.idle": "2024-03-22T13:16:58.016162Z",
          "shell.execute_reply.started": "2024-03-22T13:16:58.010766Z",
          "shell.execute_reply": "2024-03-22T13:16:58.014881Z"
        },
        "trusted": true,
        "id": "Pkd4wPNAX2lE"
      },
      "execution_count": null,
      "outputs": []
    },
    {
      "cell_type": "code",
      "source": [
        "training_dataset = (\n",
        "    train_dataset\n",
        "    .map(augment_layer, num_parallel_calls=tf.data.AUTOTUNE)\n",
        "    .prefetch(tf.data.AUTOTUNE)\n",
        ")\n"
      ],
      "metadata": {
        "execution": {
          "iopub.status.busy": "2024-03-22T13:19:33.909136Z",
          "iopub.execute_input": "2024-03-22T13:19:33.910481Z",
          "iopub.status.idle": "2024-03-22T13:19:34.050564Z",
          "shell.execute_reply.started": "2024-03-22T13:19:33.910442Z",
          "shell.execute_reply": "2024-03-22T13:19:34.049186Z"
        },
        "trusted": true,
        "id": "ToMbft68X2lE"
      },
      "execution_count": null,
      "outputs": []
    },
    {
      "cell_type": "code",
      "source": [
        "training_dataset"
      ],
      "metadata": {
        "execution": {
          "iopub.status.busy": "2024-03-22T13:19:34.711197Z",
          "iopub.execute_input": "2024-03-22T13:19:34.711728Z",
          "iopub.status.idle": "2024-03-22T13:19:34.719945Z",
          "shell.execute_reply.started": "2024-03-22T13:19:34.71169Z",
          "shell.execute_reply": "2024-03-22T13:19:34.718546Z"
        },
        "trusted": true,
        "id": "nrn_KKZpX2lE"
      },
      "execution_count": null,
      "outputs": []
    },
    {
      "cell_type": "code",
      "source": [
        "validation_dataset = (\n",
        "        val_dataset\n",
        "        .prefetch(tf.data.AUTOTUNE)\n",
        ")"
      ],
      "metadata": {
        "execution": {
          "iopub.status.busy": "2024-03-22T13:19:35.931434Z",
          "iopub.execute_input": "2024-03-22T13:19:35.931794Z",
          "iopub.status.idle": "2024-03-22T13:19:35.938417Z",
          "shell.execute_reply.started": "2024-03-22T13:19:35.931767Z",
          "shell.execute_reply": "2024-03-22T13:19:35.936936Z"
        },
        "trusted": true,
        "id": "poBtzfieX2lF"
      },
      "execution_count": null,
      "outputs": []
    },
    {
      "cell_type": "code",
      "source": [
        "validation_dataset"
      ],
      "metadata": {
        "execution": {
          "iopub.status.busy": "2024-03-22T13:19:36.63727Z",
          "iopub.execute_input": "2024-03-22T13:19:36.637646Z",
          "iopub.status.idle": "2024-03-22T13:19:36.644599Z",
          "shell.execute_reply.started": "2024-03-22T13:19:36.637617Z",
          "shell.execute_reply": "2024-03-22T13:19:36.643226Z"
        },
        "trusted": true,
        "id": "6XMar7-pX2lF"
      },
      "execution_count": null,
      "outputs": []
    },
    {
      "cell_type": "code",
      "source": [
        "resize_rescale_layers=tf.keras.Sequential([\n",
        "            Resizing(CONFIGURATION['IM_SIZE'],CONFIGURATION['IM_SIZE']),\n",
        "            Rescaling(1./255)\n",
        "])"
      ],
      "metadata": {
        "execution": {
          "iopub.status.busy": "2024-03-22T15:07:23.552851Z",
          "iopub.execute_input": "2024-03-22T15:07:23.553271Z",
          "iopub.status.idle": "2024-03-22T15:07:23.564486Z",
          "shell.execute_reply.started": "2024-03-22T15:07:23.553239Z",
          "shell.execute_reply": "2024-03-22T15:07:23.563066Z"
        },
        "trusted": true,
        "id": "ADLsvHsjX2lF"
      },
      "execution_count": null,
      "outputs": []
    },
    {
      "cell_type": "code",
      "source": [
        "lenet_model = tf.keras.Sequential(\n",
        "    [\n",
        "    InputLayer(input_shape = (None, None, 3), ),\n",
        "\n",
        "    resize_rescale_layers,\n",
        "#     InputLayer (input_shape = (CONFIGURATION[\"IM_SIZE\"], CONFIGURATION[ \"IM_SIZE\"], 3)),\n",
        "#     Rescaling(1./255, name = \"rescaling\"),\n",
        "\n",
        "    Conv2D(filters = CONFIGURATION[\"N_FILTERS\"] , kernel_size = CONFIGURATION[\"KERNEL_SIZE\"], strides = CONFIGURATION[\"N_STRIDES\"] , padding='valid',\n",
        "          activation = 'relu',kernel_regularizer = L2(CONFIGURATION[\"REGULARIZATION_RATE\"])),\n",
        "    BatchNormalization(),\n",
        "    MaxPool2D (pool_size = CONFIGURATION[\"POOL_SIZE\"], strides= CONFIGURATION[\"N_STRIDES\"]*2),\n",
        "    Dropout(rate = CONFIGURATION[\"DROPOUT_RATE\"] ),\n",
        "\n",
        "    Conv2D(filters = CONFIGURATION[\"N_FILTERS\"]*2 + 4, kernel_size = CONFIGURATION[\"KERNEL_SIZE\"], strides=CONFIGURATION[\"N_STRIDES\"], padding='valid',\n",
        "          activation = 'relu', kernel_regularizer = L2(CONFIGURATION[\"REGULARIZATION_RATE\"])),\n",
        "    BatchNormalization(),\n",
        "    MaxPool2D (pool_size = CONFIGURATION[\"POOL_SIZE\"], strides= CONFIGURATION[\"N_STRIDES\"]*2),\n",
        "\n",
        "    Flatten(),\n",
        "\n",
        "    Dense( CONFIGURATION[\"N_DENSE_1\"], activation = \"relu\", kernel_regularizer = L2(CONFIGURATION[\"REGULARIZATION_RATE\"])),\n",
        "    BatchNormalization(),\n",
        "    Dropout(rate = CONFIGURATION[\"DROPOUT_RATE\"]),\n",
        "\n",
        "    Dense( CONFIGURATION['N_DENSE_2'], activation = \"relu\", kernel_regularizer = L2(CONFIGURATION[\"REGULARIZATION_RATE\"])),\n",
        "    BatchNormalization(),\n",
        "\n",
        "    Dense(CONFIGURATION[\"NUM_CLASSES\"], activation = \"softmax\"),\n",
        "\n",
        "])\n",
        "\n",
        "lenet_model.summary()"
      ],
      "metadata": {
        "execution": {
          "iopub.status.busy": "2024-03-22T13:19:39.184544Z",
          "iopub.execute_input": "2024-03-22T13:19:39.184948Z",
          "iopub.status.idle": "2024-03-22T13:19:39.67905Z",
          "shell.execute_reply.started": "2024-03-22T13:19:39.184917Z",
          "shell.execute_reply": "2024-03-22T13:19:39.677927Z"
        },
        "trusted": true,
        "id": "sp8LwAbtX2lF"
      },
      "execution_count": null,
      "outputs": []
    },
    {
      "cell_type": "code",
      "source": [
        "loss_function=tf.keras.losses.CategoricalCrossentropy()"
      ],
      "metadata": {
        "execution": {
          "iopub.status.busy": "2024-03-22T13:19:40.514258Z",
          "iopub.execute_input": "2024-03-22T13:19:40.514674Z",
          "iopub.status.idle": "2024-03-22T13:19:40.52193Z",
          "shell.execute_reply.started": "2024-03-22T13:19:40.514642Z",
          "shell.execute_reply": "2024-03-22T13:19:40.5203Z"
        },
        "trusted": true,
        "id": "nfDxvRO0X2lF"
      },
      "execution_count": null,
      "outputs": []
    },
    {
      "cell_type": "code",
      "source": [
        "metrics=[tf.keras.metrics.CategoricalAccuracy(name='accuracy'),tf.keras.metrics.TopKCategoricalAccuracy(k=2,name='top_k_accurcay')]"
      ],
      "metadata": {
        "execution": {
          "iopub.status.busy": "2024-03-22T13:19:41.276493Z",
          "iopub.execute_input": "2024-03-22T13:19:41.277312Z",
          "iopub.status.idle": "2024-03-22T13:19:41.28786Z",
          "shell.execute_reply.started": "2024-03-22T13:19:41.277276Z",
          "shell.execute_reply": "2024-03-22T13:19:41.286657Z"
        },
        "trusted": true,
        "id": "pZlLuP9-X2lF"
      },
      "execution_count": null,
      "outputs": []
    },
    {
      "cell_type": "code",
      "source": [
        "#lenet_model.compile(\n",
        "     #               optimizer=tf.keras.optimizers.Adam(learning_rate=CONFIGURATION['LEARNING_RATE']),\n",
        "     #               loss=loss_function,\n",
        "     #               metrics=metrics\n",
        "     #                               )"
      ],
      "metadata": {
        "execution": {
          "iopub.status.busy": "2024-03-22T13:19:41.864992Z",
          "iopub.execute_input": "2024-03-22T13:19:41.865369Z",
          "iopub.status.idle": "2024-03-22T13:19:41.874657Z",
          "shell.execute_reply.started": "2024-03-22T13:19:41.865341Z",
          "shell.execute_reply": "2024-03-22T13:19:41.873385Z"
        },
        "trusted": true,
        "id": "UnR_dFIdX2lF"
      },
      "execution_count": null,
      "outputs": []
    },
    {
      "cell_type": "code",
      "source": [
        "# Example to verify the datasets\n",
        "print(\"Training dataset batch shape:\", next(iter(training_dataset))[0].shape)\n",
        "print(\"Validation dataset batch shape:\", next(iter(val_dataset))[0].shape)\n"
      ],
      "metadata": {
        "id": "Ggzhj7cDo0t9"
      },
      "execution_count": null,
      "outputs": []
    },
    {
      "cell_type": "code",
      "source": [
        "#if training_dataset is None:\n",
        "#    print(\"Training dataset is None.\")\n",
        "#else:\n",
        " #   print(f\"Training dataset element_spec: {training_dataset.element_spec}\")\n",
        "\n",
        "#if val_dataset is None:\n",
        "#    print(\"Validation dataset is None.\")\n",
        "#else:\n",
        "#   print(f\"Validation dataset element_spec: {val_dataset.element_spec}\")\n",
        "\n"
      ],
      "metadata": {
        "id": "xy89DGKBpp_r"
      },
      "execution_count": null,
      "outputs": []
    },
    {
      "cell_type": "code",
      "source": [
        "#history = lenet_model.fit(\n",
        "#    training_dataset,\n",
        "#    validation_data=val_dataset,\n",
        "#    epochs=CONFIGURATION.get('N_EPOCHS', 10),  # Use get() method for safe default\n",
        "#    verbose=1\n",
        "#)\n"
      ],
      "metadata": {
        "execution": {
          "iopub.status.busy": "2024-03-22T13:19:49.623293Z",
          "iopub.execute_input": "2024-03-22T13:19:49.623656Z",
          "iopub.status.idle": "2024-03-22T13:19:49.628493Z",
          "shell.execute_reply.started": "2024-03-22T13:19:49.623629Z",
          "shell.execute_reply": "2024-03-22T13:19:49.626967Z"
        },
        "trusted": true,
        "id": "b3BA_8iDX2lF"
      },
      "execution_count": null,
      "outputs": []
    },
    {
      "cell_type": "code",
      "source": [
        "#lenet_model. evaluate(validation_dataset)"
      ],
      "metadata": {
        "execution": {
          "iopub.status.busy": "2024-03-22T13:21:26.49824Z",
          "iopub.execute_input": "2024-03-22T13:21:26.498864Z",
          "iopub.status.idle": "2024-03-22T13:21:45.147909Z",
          "shell.execute_reply.started": "2024-03-22T13:21:26.498833Z",
          "shell.execute_reply": "2024-03-22T13:21:45.146779Z"
        },
        "trusted": true,
        "id": "2iVdKFtpX2lG"
      },
      "execution_count": null,
      "outputs": []
    },
    {
      "cell_type": "code",
      "source": [
        "import cv2\n",
        "import matplotlib.pyplot as plt\n",
        "\n",
        "# test_image = cv2.imread('/kaggle/input/human-emotions-datasethes/Emotions Dataset/Emotions Dataset/train/happy/100711.jpg')\n",
        "\n",
        "# im = tf.constant(test_image, dtype=tf.float32)\n",
        "# im = tf.expand_dims(im, axis=0)\n",
        "# print(CLASS_NAMES[tf.argmax(lenet_model(im), axis=-1).numpy()[0]])\n",
        "\n",
        "plt.figure(figsize=(12, 12))\n",
        "\n",
        "for images, labels in validation_dataset.take(1):\n",
        "    for i in range(16):\n",
        "        ax = plt.subplot(4, 4, i + 1)\n",
        "        plt.imshow(images[i] / 255.)\n",
        "\n",
        "        plt.title(\"True Label - : \" + CONFIGURATION[\"CLASS_NAMES\"][tf.argmax(labels[i], axis=-1).numpy()] +\n",
        "                  \"\\n\" + \"Predicted Label - : \" +\n",
        "                  CONFIGURATION[\"CLASS_NAMES\"][int(tf.argmax(lenet_model(tf.expand_dims(images[i], axis=0)), axis=-1).numpy()[0])])\n",
        "        plt.axis(\"off\")"
      ],
      "metadata": {
        "execution": {
          "iopub.status.busy": "2024-03-22T13:23:45.65789Z",
          "iopub.execute_input": "2024-03-22T13:23:45.658345Z",
          "iopub.status.idle": "2024-03-22T13:23:49.112361Z",
          "shell.execute_reply.started": "2024-03-22T13:23:45.658313Z",
          "shell.execute_reply": "2024-03-22T13:23:49.111247Z"
        },
        "trusted": true,
        "id": "SaG_yfFQX2lG"
      },
      "execution_count": null,
      "outputs": []
    },
    {
      "cell_type": "markdown",
      "source": [
        "# Cutmix Data Augmentation"
      ],
      "metadata": {
        "id": "WSSoEUqgX2lG"
      }
    },
    {
      "cell_type": "code",
      "source": [
        "def box(lamda):\n",
        "\n",
        "  r_x = tf.cast(tfp.distributions.Uniform(0, CONFIGURATION[\"IM_SIZE\"]).sample(1)[0], dtype = tf.int32)\n",
        "  r_y = tf.cast(tfp.distributions.Uniform(0, CONFIGURATION[\"IM_SIZE\"]).sample(1)[0], dtype = tf.int32)\n",
        "\n",
        "  r_w = tf.cast(CONFIGURATION[\"IM_SIZE\"]*tf.math.sqrt(1-lamda), dtype = tf.int32)\n",
        "  r_h = tf.cast(CONFIGURATION[\"IM_SIZE\"]*tf.math.sqrt(1-lamda), dtype = tf.int32)\n",
        "\n",
        "  r_x = tf.clip_by_value(r_x - r_w//2, 0, CONFIGURATION[\"IM_SIZE\"])\n",
        "  r_y = tf.clip_by_value(r_y - r_h//2, 0, CONFIGURATION[\"IM_SIZE\"])\n",
        "\n",
        "  x_b_r = tf.clip_by_value(r_x + r_w//2, 0, CONFIGURATION[\"IM_SIZE\"])\n",
        "  y_b_r = tf.clip_by_value(r_y + r_h//2, 0, CONFIGURATION[\"IM_SIZE\"])\n",
        "\n",
        "  r_w = x_b_r - r_x\n",
        "  if(r_w == 0):\n",
        "    r_w  = 1\n",
        "\n",
        "  r_h = y_b_r - r_y\n",
        "  if(r_h == 0):\n",
        "    r_h = 1\n",
        "\n",
        "  return r_y, r_x, r_h, r_w"
      ],
      "metadata": {
        "execution": {
          "iopub.status.busy": "2024-03-22T13:43:12.172773Z",
          "iopub.execute_input": "2024-03-22T13:43:12.174596Z",
          "iopub.status.idle": "2024-03-22T13:43:12.183929Z",
          "shell.execute_reply.started": "2024-03-22T13:43:12.174544Z",
          "shell.execute_reply": "2024-03-22T13:43:12.182621Z"
        },
        "trusted": true,
        "id": "toffHFapX2lG"
      },
      "execution_count": null,
      "outputs": []
    },
    {
      "cell_type": "code",
      "source": [
        "def cutmix(train_dataset_1, train_dataset_2):\n",
        "    (image_1,label_1), (image_2, label_2) = train_dataset_1, train_dataset_2\n",
        "    lamda = tfp.distributions.Beta(2,2)\n",
        "    lamda = lamda.sample(1)[0]\n",
        "\n",
        "    r_y, r_x, r_h, r_w = box(lamda)\n",
        "    crop_2 = tf.image.crop_to_bounding_box(image_2, r_y, r_x, r_h, r_w)\n",
        "    pad_2 = tf.image.pad_to_bounding_box(crop_2, r_y, r_x, CONFIGURATION[\"IM_SIZE\"], CONFIGURATION[\"IM_SIZE\"])\n",
        "\n",
        "    crop_1 = tf.image.crop_to_bounding_box(image_1, r_y, r_x, r_h, r_w)\n",
        "    pad_1 = tf.image.pad_to_bounding_box(crop_1, r_y, r_x, CONFIGURATION[\"IM_SIZE\"], CONFIGURATION[\"IM_SIZE\"])\n",
        "\n",
        "    image = image_1 - pad_1 + pad_2\n",
        "\n",
        "    lamda = tf.cast(1- (r_w*r_h)/(CONFIGURATION[\"IM_SIZE\"]*CONFIGURATION[\"IM_SIZE\"]), dtype = tf.float32)\n",
        "    label = lamda*tf.cast(label_1, dtype = tf.float32) + (1-lamda)*tf.cast(label_2, dtype = tf.float32)\n",
        "\n",
        "    return image, label"
      ],
      "metadata": {
        "execution": {
          "iopub.status.busy": "2024-03-22T13:43:12.874881Z",
          "iopub.execute_input": "2024-03-22T13:43:12.876461Z",
          "iopub.status.idle": "2024-03-22T13:43:12.887272Z",
          "shell.execute_reply.started": "2024-03-22T13:43:12.876416Z",
          "shell.execute_reply": "2024-03-22T13:43:12.885928Z"
        },
        "trusted": true,
        "id": "K_U4wFxhX2lG"
      },
      "execution_count": null,
      "outputs": []
    },
    {
      "cell_type": "code",
      "source": [
        "train_dataset_1 = train.map(augment_layer, num_parallel_calls = tf.data.AUTOTUNE)\n",
        "train_dataset_2 = train.map(augment_layer, num_parallel_calls = tf.data.AUTOTUNE)\n",
        "\n",
        "mixed_dataset = tf.data.Dataset.zip((train_dataset_1, train_dataset_2))"
      ],
      "metadata": {
        "execution": {
          "iopub.status.busy": "2024-03-22T13:43:13.733526Z",
          "iopub.execute_input": "2024-03-22T13:43:13.733902Z",
          "iopub.status.idle": "2024-03-22T13:43:14.015704Z",
          "shell.execute_reply.started": "2024-03-22T13:43:13.733874Z",
          "shell.execute_reply": "2024-03-22T13:43:14.014531Z"
        },
        "trusted": true,
        "id": "oufUDaorX2lG"
      },
      "execution_count": null,
      "outputs": []
    },
    {
      "cell_type": "code",
      "source": [
        "\n",
        "# training_dataset = (\n",
        "#     mixed_dataset\n",
        "#     .map(cutmix, num_parallel_calls=tf.data.AUTOTUNE)\n",
        "# #     .prefetch(tf.data.AUTOTUNE)\n",
        "# )c\n"
      ],
      "metadata": {
        "execution": {
          "iopub.status.busy": "2024-03-22T14:09:18.372742Z",
          "iopub.execute_input": "2024-03-22T14:09:18.37357Z",
          "iopub.status.idle": "2024-03-22T14:09:18.378537Z",
          "shell.execute_reply.started": "2024-03-22T14:09:18.373528Z",
          "shell.execute_reply": "2024-03-22T14:09:18.377428Z"
        },
        "trusted": true,
        "id": "lEz9hV_UX2lG"
      },
      "execution_count": null,
      "outputs": []
    },
    {
      "cell_type": "code",
      "source": [
        "lenet_model = tf.keras.Sequential(\n",
        "    [\n",
        "    InputLayer(input_shape = (None, None, 3), ),\n",
        "\n",
        "    resize_rescale_layers,\n",
        "#     InputLayer (input_shape = (CONFIGURATION[\"IM_SIZE\"], CONFIGURATION[ \"IM_SIZE\"], 3)),\n",
        "#     Rescaling(1./255, name = \"rescaling\"),\n",
        "\n",
        "    Conv2D(filters = CONFIGURATION[\"N_FILTERS\"] , kernel_size = CONFIGURATION[\"KERNEL_SIZE\"], strides = CONFIGURATION[\"N_STRIDES\"] , padding='valid',\n",
        "          activation = 'relu',kernel_regularizer = L2(CONFIGURATION[\"REGULARIZATION_RATE\"])),\n",
        "    BatchNormalization(),\n",
        "    MaxPool2D (pool_size = CONFIGURATION[\"POOL_SIZE\"], strides= CONFIGURATION[\"N_STRIDES\"]*2),\n",
        "    Dropout(rate = CONFIGURATION[\"DROPOUT_RATE\"] ),\n",
        "\n",
        "    Conv2D(filters = CONFIGURATION[\"N_FILTERS\"]*2 + 4, kernel_size = CONFIGURATION[\"KERNEL_SIZE\"], strides=CONFIGURATION[\"N_STRIDES\"], padding='valid',\n",
        "          activation = 'relu', kernel_regularizer = L2(CONFIGURATION[\"REGULARIZATION_RATE\"])),\n",
        "    BatchNormalization(),\n",
        "    MaxPool2D (pool_size = CONFIGURATION[\"POOL_SIZE\"], strides= CONFIGURATION[\"N_STRIDES\"]*2),\n",
        "\n",
        "    Flatten(),\n",
        "\n",
        "    Dense( CONFIGURATION[\"N_DENSE_1\"], activation = \"relu\", kernel_regularizer = L2(CONFIGURATION[\"REGULARIZATION_RATE\"])),\n",
        "    BatchNormalization(),\n",
        "    Dropout(rate = CONFIGURATION[\"DROPOUT_RATE\"]),\n",
        "\n",
        "    Dense( CONFIGURATION['N_DENSE_2'], activation = \"relu\", kernel_regularizer = L2(CONFIGURATION[\"REGULARIZATION_RATE\"])),\n",
        "    BatchNormalization(),\n",
        "\n",
        "    Dense(CONFIGURATION[\"NUM_CLASSES\"], activation = \"softmax\"),\n",
        "\n",
        "])\n",
        "\n",
        "lenet_model.summary()"
      ],
      "metadata": {
        "execution": {
          "iopub.status.busy": "2024-03-22T13:43:15.957812Z",
          "iopub.execute_input": "2024-03-22T13:43:15.958302Z",
          "iopub.status.idle": "2024-03-22T13:43:16.53162Z",
          "shell.execute_reply.started": "2024-03-22T13:43:15.958268Z",
          "shell.execute_reply": "2024-03-22T13:43:16.530393Z"
        },
        "trusted": true,
        "id": "H67P-VBSX2lH"
      },
      "execution_count": null,
      "outputs": []
    },
    {
      "cell_type": "code",
      "source": [
        "import cv2\n",
        "import matplotlib.pyplot as plt\n",
        "\n",
        "# test_image = cv2.imread('/kaggle/input/human-emotions-datasethes/Emotions Dataset/Emotions Dataset/train/happy/100711.jpg')\n",
        "\n",
        "# im = tf.constant(test_image, dtype=tf.float32)\n",
        "# im = tf.expand_dims(im, axis=0)\n",
        "# print(CLASS_NAMES[tf.argmax(lenet_model(im), axis=-1).numpy()[0]])\n",
        "\n",
        "plt.figure(figsize=(12, 12))\n",
        "\n",
        "for images, labels in validation_dataset.take(1):\n",
        "    for i in range(16):\n",
        "        ax = plt.subplot(4, 4, i + 1)\n",
        "        plt.imshow(images[i] / 255.)\n",
        "\n",
        "        plt.title(\"True Label - : \" + CONFIGURATION[\"CLASS_NAMES\"][tf.argmax(labels[i], axis=-1).numpy()] +\n",
        "                  \"\\n\" + \"Predicted Label - : \" +\n",
        "                  CONFIGURATION[\"CLASS_NAMES\"][int(tf.argmax(lenet_model(tf.expand_dims(images[i], axis=0)), axis=-1).numpy()[0])])\n",
        "        plt.axis(\"off\")"
      ],
      "metadata": {
        "execution": {
          "iopub.status.busy": "2024-03-22T13:43:16.87168Z",
          "iopub.execute_input": "2024-03-22T13:43:16.872175Z",
          "iopub.status.idle": "2024-03-22T13:43:19.917596Z",
          "shell.execute_reply.started": "2024-03-22T13:43:16.872137Z",
          "shell.execute_reply": "2024-03-22T13:43:19.916358Z"
        },
        "trusted": true,
        "id": "g-n1UdHRX2lH"
      },
      "execution_count": null,
      "outputs": []
    },
    {
      "cell_type": "markdown",
      "source": [
        "# TFRecords"
      ],
      "metadata": {
        "id": "7sh63np5X2lH"
      }
    },
    {
      "cell_type": "code",
      "source": [
        "training_dataset = (\n",
        "training_dataset\n",
        ".unbatch()\n",
        ")\n"
      ],
      "metadata": {
        "execution": {
          "iopub.status.busy": "2024-03-22T15:07:29.280031Z",
          "iopub.execute_input": "2024-03-22T15:07:29.280451Z",
          "iopub.status.idle": "2024-03-22T15:07:29.296681Z",
          "shell.execute_reply.started": "2024-03-22T15:07:29.280421Z",
          "shell.execute_reply": "2024-03-22T15:07:29.295399Z"
        },
        "trusted": true,
        "id": "5RILBtjWX2lH"
      },
      "execution_count": null,
      "outputs": []
    },
    {
      "cell_type": "code",
      "source": [
        "validation_dataset = (\n",
        "validation_dataset\n",
        ".unbatch()\n",
        ")"
      ],
      "metadata": {
        "execution": {
          "iopub.status.busy": "2024-03-22T15:07:39.734373Z",
          "iopub.execute_input": "2024-03-22T15:07:39.73482Z",
          "iopub.status.idle": "2024-03-22T15:07:39.740957Z",
          "shell.execute_reply.started": "2024-03-22T15:07:39.734787Z",
          "shell.execute_reply": "2024-03-22T15:07:39.739349Z"
        },
        "trusted": true,
        "id": "ZoCm9uvsX2lH"
      },
      "execution_count": null,
      "outputs": []
    },
    {
      "cell_type": "code",
      "source": [
        "training_dataset"
      ],
      "metadata": {
        "execution": {
          "iopub.status.busy": "2024-03-22T15:07:31.404221Z",
          "iopub.execute_input": "2024-03-22T15:07:31.405486Z",
          "iopub.status.idle": "2024-03-22T15:07:31.413926Z",
          "shell.execute_reply.started": "2024-03-22T15:07:31.40544Z",
          "shell.execute_reply": "2024-03-22T15:07:31.412582Z"
        },
        "trusted": true,
        "id": "xfXjtn9vX2lH",
        "collapsed": true
      },
      "execution_count": null,
      "outputs": []
    },
    {
      "cell_type": "code",
      "source": [
        "validation_dataset"
      ],
      "metadata": {
        "execution": {
          "iopub.status.busy": "2024-03-22T15:07:04.009808Z",
          "iopub.execute_input": "2024-03-22T15:07:04.010582Z",
          "iopub.status.idle": "2024-03-22T15:07:04.016973Z",
          "shell.execute_reply.started": "2024-03-22T15:07:04.010544Z",
          "shell.execute_reply": "2024-03-22T15:07:04.015668Z"
        },
        "trusted": true,
        "id": "quYCqm4QX2lH",
        "collapsed": true
      },
      "execution_count": null,
      "outputs": []
    },
    {
      "cell_type": "code",
      "source": [
        "def create_example(image, label):\n",
        "    bytes_feature = Feature (\n",
        "        bytes_list=BytesList(value=image))\n",
        "    int_feature = Feature (\n",
        "        int64_list=Int64List(value=label))\n",
        "    example = Example(\n",
        "        features=Features (feature={\n",
        "        'images': bytes_feature,\n",
        "        'labels': int_feature,\n",
        "}))\n",
        "    return example.SerializeToString()"
      ],
      "metadata": {
        "execution": {
          "iopub.status.busy": "2024-03-22T14:51:23.555987Z",
          "iopub.execute_input": "2024-03-22T14:51:23.55648Z",
          "iopub.status.idle": "2024-03-22T14:51:23.564106Z",
          "shell.execute_reply.started": "2024-03-22T14:51:23.556445Z",
          "shell.execute_reply": "2024-03-22T14:51:23.562474Z"
        },
        "trusted": true,
        "id": "idAgLFcFX2lH"
      },
      "execution_count": null,
      "outputs": []
    },
    {
      "cell_type": "code",
      "source": [
        "NUM_SHARDS=10\n",
        "PATH='/kaggle/working/shard_{:02d}.tfrecord'"
      ],
      "metadata": {
        "execution": {
          "iopub.status.busy": "2024-03-22T15:08:04.758043Z",
          "iopub.execute_input": "2024-03-22T15:08:04.758526Z",
          "iopub.status.idle": "2024-03-22T15:08:04.765018Z",
          "shell.execute_reply.started": "2024-03-22T15:08:04.758494Z",
          "shell.execute_reply": "2024-03-22T15:08:04.763186Z"
        },
        "trusted": true,
        "id": "EyJ7qzXdX2lH"
      },
      "execution_count": null,
      "outputs": []
    },
    {
      "cell_type": "code",
      "source": [
        "def encode_image(image, label) :\n",
        "    image = tf. io. encode_peg (image)\n",
        "    return image, label"
      ],
      "metadata": {
        "execution": {
          "iopub.status.busy": "2024-03-22T15:08:07.058281Z",
          "iopub.execute_input": "2024-03-22T15:08:07.058748Z",
          "iopub.status.idle": "2024-03-22T15:08:07.065899Z",
          "shell.execute_reply.started": "2024-03-22T15:08:07.058714Z",
          "shell.execute_reply": "2024-03-22T15:08:07.063681Z"
        },
        "trusted": true,
        "id": "bNDxtBbOX2lI"
      },
      "execution_count": null,
      "outputs": []
    },
    {
      "cell_type": "code",
      "source": [
        "def encode_image (image, label):\n",
        "    image = tf. image.convert_image_dtype(image, dtype=tf.uint8)\n",
        "    image = tf.io. encode_jpeg (image)\n",
        "    return image, label"
      ],
      "metadata": {
        "execution": {
          "iopub.status.busy": "2024-03-22T15:08:07.36356Z",
          "iopub.execute_input": "2024-03-22T15:08:07.364011Z",
          "iopub.status.idle": "2024-03-22T15:08:07.370128Z",
          "shell.execute_reply.started": "2024-03-22T15:08:07.363975Z",
          "shell.execute_reply": "2024-03-22T15:08:07.368778Z"
        },
        "trusted": true,
        "id": "IHrsQIwVX2lI"
      },
      "execution_count": null,
      "outputs": []
    },
    {
      "cell_type": "code",
      "source": [
        "# encoded_dataset = (\n",
        "#     training_dataset\n",
        "#     .map(encode_image)\n",
        "# )"
      ],
      "metadata": {
        "execution": {
          "iopub.status.busy": "2024-03-22T15:08:34.071156Z",
          "iopub.execute_input": "2024-03-22T15:08:34.071817Z",
          "iopub.status.idle": "2024-03-22T15:08:34.076444Z",
          "shell.execute_reply.started": "2024-03-22T15:08:34.071772Z",
          "shell.execute_reply": "2024-03-22T15:08:34.075335Z"
        },
        "trusted": true,
        "id": "kloAlqEuX2lI"
      },
      "execution_count": null,
      "outputs": []
    },
    {
      "cell_type": "code",
      "source": [
        "# for shard_number in range(NUM_SHARDS):\n",
        "#   sharded_dataset = encoded_dataset.shard(NUM_SHARDS, shard_number).as_numpy_iterator()\n",
        "\n",
        "#   with tf.io.TFRecordWriter(PATH.format(shard_number)) as file_writer:\n",
        "#     for encoded_image, encoded_label in sharded_dataset:\n",
        "#       example = create_example(encoded_image, encoded_label)\n",
        "#       file_writer.write(example)\n"
      ],
      "metadata": {
        "execution": {
          "iopub.status.busy": "2024-03-22T15:03:29.913856Z",
          "iopub.execute_input": "2024-03-22T15:03:29.914264Z",
          "iopub.status.idle": "2024-03-22T15:03:29.92018Z",
          "shell.execute_reply.started": "2024-03-22T15:03:29.914233Z",
          "shell.execute_reply": "2024-03-22T15:03:29.918776Z"
        },
        "trusted": true,
        "id": "4sq3CDcSX2lI"
      },
      "execution_count": null,
      "outputs": []
    },
    {
      "cell_type": "code",
      "source": [
        "# for shard_number in range(NUM_SHARDS):\n",
        "\n",
        "#   sharded_dataset = (\n",
        "#       encoded_dataset\n",
        "#       .shard(NUM_SHARDS, shard_number)\n",
        "#       .as_numpy_iterator()\n",
        "#   )\n",
        "\n",
        "#   with tf.io.TFRecordWriter(PATH.format(shard_number)) as file_writer:\n",
        "#     for encoded_image, encoded_label in sharded_dataset:\n",
        "\n",
        "#       example = create_example(encoded_image, encoded_label)\n",
        "#       file_writer.write(example)"
      ],
      "metadata": {
        "execution": {
          "iopub.status.busy": "2024-03-22T15:10:08.82357Z",
          "iopub.execute_input": "2024-03-22T15:10:08.823972Z",
          "iopub.status.idle": "2024-03-22T15:10:08.829559Z",
          "shell.execute_reply.started": "2024-03-22T15:10:08.82394Z",
          "shell.execute_reply": "2024-03-22T15:10:08.82818Z"
        },
        "trusted": true,
        "id": "XLZuXjPzX2lI"
      },
      "execution_count": null,
      "outputs": []
    },
    {
      "cell_type": "code",
      "source": [
        "VAL_NUM_SHARDS=3\n",
        "VAL_PATH='/kaggle/working/val_shard_{:02d}.tfrecord'"
      ],
      "metadata": {
        "execution": {
          "iopub.status.busy": "2024-03-22T15:10:11.665642Z",
          "iopub.execute_input": "2024-03-22T15:10:11.666739Z",
          "iopub.status.idle": "2024-03-22T15:10:11.672608Z",
          "shell.execute_reply.started": "2024-03-22T15:10:11.666703Z",
          "shell.execute_reply": "2024-03-22T15:10:11.671339Z"
        },
        "trusted": true,
        "id": "Pp1Bg6RNX2lI"
      },
      "execution_count": null,
      "outputs": []
    },
    {
      "cell_type": "code",
      "source": [
        "encoded_val=(\n",
        "     validation_dataset\n",
        "     .map(encode_image)\n",
        ")"
      ],
      "metadata": {
        "execution": {
          "iopub.status.busy": "2024-03-22T15:10:43.606322Z",
          "iopub.execute_input": "2024-03-22T15:10:43.606804Z",
          "iopub.status.idle": "2024-03-22T15:10:43.629786Z",
          "shell.execute_reply.started": "2024-03-22T15:10:43.606755Z",
          "shell.execute_reply": "2024-03-22T15:10:43.628846Z"
        },
        "trusted": true,
        "id": "kIl-M6s9X2lI"
      },
      "execution_count": null,
      "outputs": []
    },
    {
      "cell_type": "code",
      "source": [
        "\n",
        "# for shard_number in range(VAL_NUM_SHARDS):\n",
        "#     sharded_val=(\n",
        "#         encoded_val\n",
        "#         .shard(VAL_NUM_SHARDS,shard_number)\n",
        "#         .as_numpy_iterator()\n",
        "#    )\n",
        "\n",
        "#     with tf.io.TFRecordWriter(VAL_PATH.format(shard_number)) as file_writer:\n",
        "#         for image,label in sharded_val:\n",
        "#             file_writer.write(create_example(image,label))"
      ],
      "metadata": {
        "execution": {
          "iopub.status.busy": "2024-03-22T15:11:10.608109Z",
          "iopub.execute_input": "2024-03-22T15:11:10.608518Z",
          "iopub.status.idle": "2024-03-22T15:11:10.614276Z",
          "shell.execute_reply.started": "2024-03-22T15:11:10.608487Z",
          "shell.execute_reply": "2024-03-22T15:11:10.612776Z"
        },
        "trusted": true,
        "id": "l-GfWq46X2lI"
      },
      "execution_count": null,
      "outputs": []
    },
    {
      "cell_type": "code",
      "source": [
        "recons_dataset = tf.data.TFRecordDataset(\n",
        "    filenames =[PATH.format(p) for p in range(NUM_SHARDS)] )\n",
        "recons_val_dataset=tf.data.TFRecordDataset(filenames=[VAL_PATH.format(p) for p in range(VAL_NUM_SHARDS)])"
      ],
      "metadata": {
        "execution": {
          "iopub.status.busy": "2024-03-22T15:11:36.547018Z",
          "iopub.execute_input": "2024-03-22T15:11:36.547438Z",
          "iopub.status.idle": "2024-03-22T15:11:36.588772Z",
          "shell.execute_reply.started": "2024-03-22T15:11:36.547407Z",
          "shell.execute_reply": "2024-03-22T15:11:36.58763Z"
        },
        "trusted": true,
        "id": "lJ1ZfO7MX2lI"
      },
      "execution_count": null,
      "outputs": []
    },
    {
      "cell_type": "code",
      "source": [
        "def parse_tfrecords(example):\n",
        "\n",
        "    feature_description = {\n",
        "          \"images\": tf.io.FixedLenFeature([], tf.string),\n",
        "          \"labels\": tf.io.FixedLenFeature([], tf.int64),\n",
        "      }\n",
        "\n",
        "    example = tf.io.parse_single_example(example, feature_description)\n",
        "    example[\"images\"] = tf.image.convert_image_dtype(tf.io.decode_jpeg(example[\"images\"],channels=3), dtype=tf.float32)\n",
        "\n",
        "    return example[\"images\"], example[\"labels\"]\n"
      ],
      "metadata": {
        "execution": {
          "iopub.status.busy": "2024-03-22T15:11:54.158019Z",
          "iopub.execute_input": "2024-03-22T15:11:54.15844Z",
          "iopub.status.idle": "2024-03-22T15:11:54.165694Z",
          "shell.execute_reply.started": "2024-03-22T15:11:54.15841Z",
          "shell.execute_reply": "2024-03-22T15:11:54.164184Z"
        },
        "trusted": true,
        "id": "Ot-eXbBMX2lJ"
      },
      "execution_count": null,
      "outputs": []
    },
    {
      "cell_type": "code",
      "source": [
        "\n",
        "parsed_dataset = (\n",
        "    recons_dataset\n",
        "    .map(parse_tfrecords)\n",
        "    .batch(CONFIGURATION[\"BATCH_SIZE\"])\n",
        "    .prefetch(tf.data.AUTOTUNE)\n",
        ")"
      ],
      "metadata": {
        "execution": {
          "iopub.status.busy": "2024-03-22T15:12:08.999577Z",
          "iopub.execute_input": "2024-03-22T15:12:08.999963Z",
          "iopub.status.idle": "2024-03-22T15:12:09.099649Z",
          "shell.execute_reply.started": "2024-03-22T15:12:08.999933Z",
          "shell.execute_reply": "2024-03-22T15:12:09.098524Z"
        },
        "trusted": true,
        "id": "SRxGo1mFX2lJ"
      },
      "execution_count": null,
      "outputs": []
    },
    {
      "cell_type": "code",
      "source": [
        "val_parsed_dataset= (\n",
        "    recons_val_dataset\n",
        "    .map(parse_tfrecords)\n",
        "    .batch(CONFIGURATION[\"BATCH_SIZE\"])\n",
        "    .prefetch(tf.data.AUTOTUNE)\n",
        ")"
      ],
      "metadata": {
        "execution": {
          "iopub.status.busy": "2024-03-22T15:12:22.101865Z",
          "iopub.execute_input": "2024-03-22T15:12:22.102285Z",
          "iopub.status.idle": "2024-03-22T15:12:22.129852Z",
          "shell.execute_reply.started": "2024-03-22T15:12:22.102253Z",
          "shell.execute_reply": "2024-03-22T15:12:22.128369Z"
        },
        "trusted": true,
        "id": "hzoMXkRiX2lJ"
      },
      "execution_count": null,
      "outputs": []
    },
    {
      "cell_type": "code",
      "source": [
        "# plt.figure(figsize=(12,12))\n",
        "# for images,labels in val_parsed_dataset.take(1):\n",
        "#     for i in range(16):\n",
        "#         ax=plt.subplot(4,4,i+1)\n",
        "#         plt.imshow(images[i])\n",
        "#         plt.title(CLASS_NAMES[(labels[i])])\n",
        "#         plt.axis('off')"
      ],
      "metadata": {
        "execution": {
          "iopub.status.busy": "2024-03-22T15:13:16.753791Z",
          "iopub.execute_input": "2024-03-22T15:13:16.754174Z",
          "iopub.status.idle": "2024-03-22T15:13:16.759764Z",
          "shell.execute_reply.started": "2024-03-22T15:13:16.754145Z",
          "shell.execute_reply": "2024-03-22T15:13:16.75834Z"
        },
        "trusted": true,
        "id": "eurb5UwpX2lJ"
      },
      "execution_count": null,
      "outputs": []
    },
    {
      "cell_type": "code",
      "source": [
        "resize_rescale_layers=tf.keras.Sequential([\n",
        "            Resizing(CONFIGURATION['IM_SIZE'],CONFIGURATION['IM_SIZE']),\n",
        "])"
      ],
      "metadata": {
        "execution": {
          "iopub.status.busy": "2024-03-22T15:13:05.687622Z",
          "iopub.execute_input": "2024-03-22T15:13:05.688016Z",
          "iopub.status.idle": "2024-03-22T15:13:05.69586Z",
          "shell.execute_reply.started": "2024-03-22T15:13:05.687989Z",
          "shell.execute_reply": "2024-03-22T15:13:05.694152Z"
        },
        "trusted": true,
        "id": "L5ks9NFkX2lJ"
      },
      "execution_count": null,
      "outputs": []
    },
    {
      "cell_type": "code",
      "source": [
        "lenet_model = tf.keras.Sequential(\n",
        "    [\n",
        "    InputLayer(input_shape = (None, None, 3) ),\n",
        "\n",
        "    resize_rescale_layers,\n",
        "\n",
        "    Conv2D(filters = CONFIGURATION[\"N_FILTERS\"] , kernel_size = CONFIGURATION[\"KERNEL_SIZE\"], strides = CONFIGURATION[\"N_STRIDES\"] , padding='valid',\n",
        "          activation = 'relu',kernel_regularizer = L2(CONFIGURATION[\"REGULARIZATION_RATE\"])),\n",
        "    BatchNormalization(),\n",
        "    MaxPool2D (pool_size = CONFIGURATION[\"POOL_SIZE\"], strides= CONFIGURATION[\"N_STRIDES\"]*2),\n",
        "    Dropout(rate = CONFIGURATION[\"DROPOUT_RATE\"] ),\n",
        "\n",
        "    Conv2D(filters = CONFIGURATION[\"N_FILTERS\"]*2 + 4, kernel_size = CONFIGURATION[\"KERNEL_SIZE\"], strides=CONFIGURATION[\"N_STRIDES\"], padding='valid',\n",
        "          activation = 'relu', kernel_regularizer = L2(CONFIGURATION[\"REGULARIZATION_RATE\"])),\n",
        "    BatchNormalization(),\n",
        "    MaxPool2D (pool_size = CONFIGURATION[\"POOL_SIZE\"], strides= CONFIGURATION[\"N_STRIDES\"]*2),\n",
        "\n",
        "    Flatten(),\n",
        "\n",
        "    Dense( CONFIGURATION[\"N_DENSE_1\"], activation = \"relu\", kernel_regularizer = L2(CONFIGURATION[\"REGULARIZATION_RATE\"])),\n",
        "    BatchNormalization(),\n",
        "    Dropout(rate = CONFIGURATION[\"DROPOUT_RATE\"]),\n",
        "\n",
        "    Dense( CONFIGURATION['N_DENSE_2'], activation = \"relu\", kernel_regularizer = L2(CONFIGURATION[\"REGULARIZATION_RATE\"])),\n",
        "    BatchNormalization(),\n",
        "\n",
        "    Dense(CONFIGURATION[\"NUM_CLASSES\"], activation = \"softmax\"),\n",
        "\n",
        "])\n",
        "\n",
        "lenet_model.summary()"
      ],
      "metadata": {
        "execution": {
          "iopub.status.busy": "2024-03-22T15:13:54.274307Z",
          "iopub.execute_input": "2024-03-22T15:13:54.27489Z",
          "iopub.status.idle": "2024-03-22T15:13:54.770379Z",
          "shell.execute_reply.started": "2024-03-22T15:13:54.274861Z",
          "shell.execute_reply": "2024-03-22T15:13:54.769258Z"
        },
        "trusted": true,
        "id": "DtMZRc0fX2lJ"
      },
      "execution_count": null,
      "outputs": []
    },
    {
      "cell_type": "code",
      "source": [
        "loss_function=tf.keras.losses.SparseCategoricalCrossentropy()\n",
        "metrics=[tf.keras.metrics.SparseCategoricalAccuracy(name='accuracy')]\n",
        "lenet_model.compile(\n",
        "                    optimizer=tf.keras.optimizers.Adam(learning_rate=CONFIGURATION['LEARNING_RATE']),\n",
        "                    loss=loss_function,\n",
        "                    metrics=metrics\n",
        "                                    )"
      ],
      "metadata": {
        "execution": {
          "iopub.status.busy": "2024-03-22T15:14:07.603306Z",
          "iopub.execute_input": "2024-03-22T15:14:07.603694Z",
          "iopub.status.idle": "2024-03-22T15:14:07.615658Z",
          "shell.execute_reply.started": "2024-03-22T15:14:07.603662Z",
          "shell.execute_reply": "2024-03-22T15:14:07.614522Z"
        },
        "trusted": true,
        "id": "Vi58oGXBX2lJ"
      },
      "execution_count": null,
      "outputs": []
    },
    {
      "cell_type": "code",
      "source": [
        "\n",
        "# history= lenet_model.fit(\n",
        "     #parsed_dataset,\n",
        "    # validation_data=val_parsed_dataset,\n",
        "     #epochs=CONFIGURATION['N_EPOCHS'],\n",
        "    # verbose=1)"
      ],
      "metadata": {
        "execution": {
          "iopub.status.busy": "2024-03-22T15:14:41.432611Z",
          "iopub.execute_input": "2024-03-22T15:14:41.43349Z",
          "iopub.status.idle": "2024-03-22T15:14:41.437705Z",
          "shell.execute_reply.started": "2024-03-22T15:14:41.433458Z",
          "shell.execute_reply": "2024-03-22T15:14:41.436655Z"
        },
        "trusted": true,
        "id": "r-faBDOxX2lJ"
      },
      "execution_count": null,
      "outputs": []
    },
    {
      "cell_type": "code",
      "source": [
        "# import cv2\n",
        "# import matplotlib.pyplot as plt\n",
        "\n",
        "# # test_image = cv2.imread('/kaggle/input/human-emotions-datasethes/Emotions Dataset/Emotions Dataset/train/happy/100711.jpg')\n",
        "\n",
        "# # im = tf.constant(test_image, dtype=tf.float32)\n",
        "# # im = tf.expand_dims(im, axis=0)\n",
        "# # print(CLASS_NAMES[tf.argmax(lenet_model(im), axis=-1).numpy()[0]])\n",
        "\n",
        "# plt.figure(figsize=(12, 12))\n",
        "\n",
        "# for images, labels in validation_dataset.take(1):\n",
        "#     for i in range(16):\n",
        "#         ax = plt.subplot(4, 4, i + 1)\n",
        "#         plt.imshow(images[i] / 255.)\n",
        "\n",
        "#         plt.title(\"True Label - : \" + CONFIGURATION[\"CLASS_NAMES\"][tf.argmax(labels[i], axis=-1).numpy()] +\n",
        "#                   \"\\n\" + \"Predicted Label - : \" +\n",
        "#                   CONFIGURATION[\"CLASS_NAMES\"][int(tf.argmax(lenet_model(tf.expand_dims(images[i], axis=0)), axis=-1).numpy()[0])])\n",
        "#         plt.axis(\"off\")"
      ],
      "metadata": {
        "execution": {
          "iopub.status.busy": "2024-03-22T15:16:03.241646Z",
          "iopub.execute_input": "2024-03-22T15:16:03.242055Z",
          "iopub.status.idle": "2024-03-22T15:16:03.247723Z",
          "shell.execute_reply.started": "2024-03-22T15:16:03.242023Z",
          "shell.execute_reply": "2024-03-22T15:16:03.246427Z"
        },
        "trusted": true,
        "id": "AKnriw5TX2lJ"
      },
      "execution_count": null,
      "outputs": []
    },
    {
      "cell_type": "markdown",
      "source": [
        "# Custom Conv2D"
      ],
      "metadata": {
        "id": "aaIBvtr3X2lJ"
      }
    },
    {
      "cell_type": "code",
      "source": [
        "class CustomConv2D(Layer):\n",
        "  def __init__(self, n_filters, kernel_size, n_strides, padding = 'valid'):\n",
        "    super(CustomConv2D, self).__init__(name = 'custom_conv2d')\n",
        "\n",
        "    self.conv = Conv2D(\n",
        "        filters = n_filters,\n",
        "        kernel_size = kernel_size,\n",
        "        activation = 'relu',\n",
        "        strides = n_strides,\n",
        "        padding = padding)\n",
        "\n",
        "    self.batch_norm = BatchNormalization()\n",
        "\n",
        "  def call(self, x, training = True):\n",
        "\n",
        "    x = self.conv(x)\n",
        "    x = self.batch_norm(x, training)\n",
        "\n",
        "    return x"
      ],
      "metadata": {
        "execution": {
          "iopub.status.busy": "2024-03-22T15:25:55.639447Z",
          "iopub.execute_input": "2024-03-22T15:25:55.640012Z",
          "iopub.status.idle": "2024-03-22T15:25:55.649955Z",
          "shell.execute_reply.started": "2024-03-22T15:25:55.63998Z",
          "shell.execute_reply": "2024-03-22T15:25:55.647176Z"
        },
        "trusted": true,
        "id": "KdNurTW2X2lK"
      },
      "execution_count": null,
      "outputs": []
    },
    {
      "cell_type": "markdown",
      "source": [
        "# Residual Block"
      ],
      "metadata": {
        "id": "1W8tO-pkX2lK"
      }
    },
    {
      "cell_type": "code",
      "source": [
        "class ResidualBlock(Layer):\n",
        "  def __init__(self, n_channels, n_strides = 1):\n",
        "    super(ResidualBlock, self).__init__(name = 'res_block')\n",
        "\n",
        "    self.dotted = (n_strides != 1)\n",
        "\n",
        "    self.custom_conv_1 = CustomConv2D(n_channels, 3, n_strides, padding = \"same\")\n",
        "    self.custom_conv_2 = CustomConv2D(n_channels, 3, 1, padding = \"same\")\n",
        "\n",
        "    self.activation = Activation('relu')\n",
        "\n",
        "    if self.dotted:\n",
        "      self.custom_conv_3 = CustomConv2D(n_channels, 1, n_strides)\n",
        "\n",
        "  def call(self, input, training=True):\n",
        "\n",
        "    x = self.custom_conv_1(input, training)\n",
        "    x = self.custom_conv_2(x, training)\n",
        "\n",
        "    if self.dotted:\n",
        "      x_add = self.custom_conv_3(input, training)\n",
        "      x_add = Add()([x, x_add])\n",
        "    else:\n",
        "      x_add = Add()([x, input])\n",
        "\n",
        "    return self.activation(x_add)"
      ],
      "metadata": {
        "execution": {
          "iopub.status.busy": "2024-03-22T15:26:39.382779Z",
          "iopub.execute_input": "2024-03-22T15:26:39.383199Z",
          "iopub.status.idle": "2024-03-22T15:26:39.393812Z",
          "shell.execute_reply.started": "2024-03-22T15:26:39.383168Z",
          "shell.execute_reply": "2024-03-22T15:26:39.391203Z"
        },
        "trusted": true,
        "id": "gUIGK8SAX2lK"
      },
      "execution_count": null,
      "outputs": []
    },
    {
      "cell_type": "markdown",
      "source": [
        "# Complete Network"
      ],
      "metadata": {
        "id": "0dEAa8MqX2lK"
      }
    },
    {
      "cell_type": "code",
      "source": [
        "class ResNet34(tf.keras.Model):\n",
        "    def __init__(self):\n",
        "        super(ResNet34, self).__init__(name='resnet_34')\n",
        "\n",
        "        self.conv_1 = CustomConv2D(64, 7, 2, padding='same')\n",
        "        self.max_pool = tf.keras.layers.MaxPooling2D(3, 2)\n",
        "\n",
        "        self.conv_2_1 = ResidualBlock(64)\n",
        "        self.conv_2_2 = ResidualBlock(64)\n",
        "        self.conv_2_3 = ResidualBlock(64)\n",
        "\n",
        "        self.conv_3_1 = ResidualBlock(128, 2)\n",
        "        self.conv_3_2 = ResidualBlock(128)\n",
        "        self.conv_3_3 = ResidualBlock(128)\n",
        "        self.conv_3_4 = ResidualBlock(128)\n",
        "\n",
        "        self.conv_4_1 = ResidualBlock(256, 2)\n",
        "        self.conv_4_2 = ResidualBlock(256)\n",
        "        self.conv_4_3 = ResidualBlock(256)\n",
        "        self.conv_4_4 = ResidualBlock(256)\n",
        "        self.conv_4_5 = ResidualBlock(256)\n",
        "        self.conv_4_6 = ResidualBlock(256)\n",
        "\n",
        "        self.conv_5_1 = ResidualBlock(512, 2)\n",
        "        self.conv_5_2 = ResidualBlock(512)\n",
        "        self.conv_5_3 = ResidualBlock(512)\n",
        "\n",
        "        self.global_pool = tf.keras.layers.GlobalAveragePooling2D()\n",
        "\n",
        "        self.fc_3 = tf.keras.layers.Dense(CONFIGURATION[\"NUM_CLASSES\"], activation='softmax')\n",
        "\n",
        "    def call(self, x, training=True):\n",
        "        x = self.conv_1(x, training=training)\n",
        "        x = self.max_pool(x)\n",
        "\n",
        "        x = self.conv_2_1(x, training=training)\n",
        "        x = self.conv_2_2(x, training=training)\n",
        "        x = self.conv_2_3(x, training=training)\n",
        "\n",
        "        x = self.conv_3_1(x, training=training)\n",
        "        x = self.conv_3_2(x, training=training)\n",
        "        x = self.conv_3_3(x, training=training)\n",
        "        x = self.conv_3_4(x, training=training)\n",
        "\n",
        "        x = self.conv_4_1(x, training=training)\n",
        "        x = self.conv_4_2(x, training=training)\n",
        "        x = self.conv_4_3(x, training=training)\n",
        "        x = self.conv_4_4(x, training=training)\n",
        "        x = self.conv_4_5(x, training=training)\n",
        "        x = self.conv_4_6(x, training=training)\n",
        "\n",
        "        x = self.conv_5_1(x, training=training)\n",
        "        x = self.conv_5_2(x, training=training)\n",
        "        x = self.conv_5_3(x, training=training)\n",
        "\n",
        "        x = self.global_pool(x)\n",
        "\n",
        "        return self.fc_3(x)\n"
      ],
      "metadata": {
        "execution": {
          "iopub.status.busy": "2024-03-22T15:27:19.284789Z",
          "iopub.execute_input": "2024-03-22T15:27:19.285242Z",
          "iopub.status.idle": "2024-03-22T15:27:19.301016Z",
          "shell.execute_reply.started": "2024-03-22T15:27:19.285209Z",
          "shell.execute_reply": "2024-03-22T15:27:19.299896Z"
        },
        "trusted": true,
        "id": "znYNMWHyX2lK"
      },
      "execution_count": null,
      "outputs": []
    },
    {
      "cell_type": "code",
      "source": [
        "# checkpoint_callback=tf.keras.callbacks.ModelCheckpoint(\n",
        "#         '/kaggle/working/',\n",
        "#         monitor='val_accuracy',\n",
        "#         mode='max',\n",
        "#         verbose=1,\n",
        "#         save_best_only=True\n",
        "# )"
      ],
      "metadata": {
        "execution": {
          "iopub.status.busy": "2024-03-22T15:28:25.864312Z",
          "iopub.execute_input": "2024-03-22T15:28:25.864693Z",
          "iopub.status.idle": "2024-03-22T15:28:25.870735Z",
          "shell.execute_reply.started": "2024-03-22T15:28:25.864664Z",
          "shell.execute_reply": "2024-03-22T15:28:25.869443Z"
        },
        "trusted": true,
        "id": "6TE2eG1EX2lK"
      },
      "execution_count": null,
      "outputs": []
    },
    {
      "cell_type": "code",
      "source": [
        "loss_function=tf.keras.losses.CategoricalCrossentropy()"
      ],
      "metadata": {
        "execution": {
          "iopub.status.busy": "2024-03-22T15:28:42.510287Z",
          "iopub.execute_input": "2024-03-22T15:28:42.510645Z",
          "iopub.status.idle": "2024-03-22T15:28:42.51622Z",
          "shell.execute_reply.started": "2024-03-22T15:28:42.51062Z",
          "shell.execute_reply": "2024-03-22T15:28:42.514991Z"
        },
        "trusted": true,
        "id": "ZJqsdGPKX2lK"
      },
      "execution_count": null,
      "outputs": []
    },
    {
      "cell_type": "code",
      "source": [
        "metrics=[tf.keras.metrics.CategoricalAccuracy(name='accuracy')]"
      ],
      "metadata": {
        "execution": {
          "iopub.status.busy": "2024-03-22T15:29:06.187008Z",
          "iopub.execute_input": "2024-03-22T15:29:06.18745Z",
          "iopub.status.idle": "2024-03-22T15:29:06.196355Z",
          "shell.execute_reply.started": "2024-03-22T15:29:06.187421Z",
          "shell.execute_reply": "2024-03-22T15:29:06.195003Z"
        },
        "trusted": true,
        "id": "xUl-cSEIX2lK"
      },
      "execution_count": null,
      "outputs": []
    },
    {
      "cell_type": "code",
      "source": [
        "#resnet_34.compile(optimizer=tf.keras.optimizers.Adam(learning_rate=CONFIGURATION['LEARNING_RATE']),\n",
        "                #    loss=loss_function,\n",
        "                #    metrics=metrics\n",
        "                #                    )"
      ],
      "metadata": {
        "execution": {
          "iopub.status.busy": "2024-03-22T15:29:06.909373Z",
          "iopub.execute_input": "2024-03-22T15:29:06.909765Z",
          "iopub.status.idle": "2024-03-22T15:29:06.92156Z",
          "shell.execute_reply.started": "2024-03-22T15:29:06.909735Z",
          "shell.execute_reply": "2024-03-22T15:29:06.919977Z"
        },
        "trusted": true,
        "id": "Pud0mpFAX2lK"
      },
      "execution_count": null,
      "outputs": []
    },
    {
      "cell_type": "code",
      "source": [
        "#history=resnet_34.fit(train,validation_data=val, epochs=CONFIGURATION['N_EPOCHS'],verbose=1)"
      ],
      "metadata": {
        "execution": {
          "iopub.status.busy": "2024-03-22T15:29:29.709945Z",
          "iopub.execute_input": "2024-03-22T15:29:29.710963Z",
          "iopub.status.idle": "2024-03-22T15:29:29.715512Z",
          "shell.execute_reply.started": "2024-03-22T15:29:29.710927Z",
          "shell.execute_reply": "2024-03-22T15:29:29.714257Z"
        },
        "trusted": true,
        "id": "tQh9M1_xX2lL"
      },
      "execution_count": null,
      "outputs": []
    },
    {
      "cell_type": "markdown",
      "source": [
        "# Transfer Learning EfficientNetB4"
      ],
      "metadata": {
        "id": "94WQmNvjX2lL"
      }
    },
    {
      "cell_type": "code",
      "source": [
        "backbone = tf.keras.applications.efficientnet.EfficientNetB4(\n",
        "    include_top = False,\n",
        "    weights='imagenet',\n",
        "    input_shape=(CONFIGURATION[\"IM_SIZE\"], CONFIGURATION[\"IM_SIZE\"], 3),\n",
        "    )"
      ],
      "metadata": {
        "execution": {
          "iopub.status.busy": "2024-03-22T15:30:43.537665Z",
          "iopub.execute_input": "2024-03-22T15:30:43.538091Z",
          "iopub.status.idle": "2024-03-22T15:30:50.106321Z",
          "shell.execute_reply.started": "2024-03-22T15:30:43.538045Z",
          "shell.execute_reply": "2024-03-22T15:30:50.105018Z"
        },
        "trusted": true,
        "id": "rxV0RHC9X2lL"
      },
      "execution_count": null,
      "outputs": []
    },
    {
      "cell_type": "code",
      "source": [
        "backbone.trainable = False"
      ],
      "metadata": {
        "execution": {
          "iopub.status.busy": "2024-03-22T15:31:15.536998Z",
          "iopub.execute_input": "2024-03-22T15:31:15.537396Z",
          "iopub.status.idle": "2024-03-22T15:31:15.552673Z",
          "shell.execute_reply.started": "2024-03-22T15:31:15.537369Z",
          "shell.execute_reply": "2024-03-22T15:31:15.551557Z"
        },
        "trusted": true,
        "id": "4GDP1CjQX2lL"
      },
      "execution_count": null,
      "outputs": []
    },
    {
      "cell_type": "code",
      "source": [
        "pretrained_model = tf.keras.Sequential([\n",
        "    Input(shape = (CONFIGURATION[\"IM_SIZE\"], CONFIGURATION[\"IM_SIZE\"],3)),\n",
        "    backbone,\n",
        "    GlobalAveragePooling2D(),\n",
        "    Dense( CONFIGURATION[\"N_DENSE_1\"], activation = \"relu\"),\n",
        "    BatchNormalization(),\n",
        "    Dense( CONFIGURATION[\"N_DENSE_2\"], activation = \"relu\"),\n",
        "    Dense( CONFIGURATION[\"NUM_CLASSES\"], activation = \"softmax\"),\n",
        "\n",
        "    ])\n",
        "pretrained_model.summary()"
      ],
      "metadata": {
        "execution": {
          "iopub.status.busy": "2024-03-22T15:31:27.360526Z",
          "iopub.execute_input": "2024-03-22T15:31:27.360957Z",
          "iopub.status.idle": "2024-03-22T15:31:27.457378Z",
          "shell.execute_reply.started": "2024-03-22T15:31:27.360912Z",
          "shell.execute_reply": "2024-03-22T15:31:27.455971Z"
        },
        "trusted": true,
        "id": "GX7RHrCYX2lL"
      },
      "execution_count": null,
      "outputs": []
    },
    {
      "cell_type": "code",
      "source": [
        "loss_function=tf.keras.losses.CategoricalCrossentropy()"
      ],
      "metadata": {
        "execution": {
          "iopub.status.busy": "2024-03-22T15:31:44.413282Z",
          "iopub.execute_input": "2024-03-22T15:31:44.413665Z",
          "iopub.status.idle": "2024-03-22T15:31:44.419455Z",
          "shell.execute_reply.started": "2024-03-22T15:31:44.413635Z",
          "shell.execute_reply": "2024-03-22T15:31:44.418397Z"
        },
        "trusted": true,
        "id": "wpBo5UdWX2lL"
      },
      "execution_count": null,
      "outputs": []
    },
    {
      "cell_type": "code",
      "source": [
        "metrics=[tf.keras.metrics.CategoricalAccuracy(name='accuracy'),tf.keras.metrics.TopKCategoricalAccuracy(k=2,name='top_k_accurcay')]"
      ],
      "metadata": {
        "execution": {
          "iopub.status.busy": "2024-03-22T15:31:56.813995Z",
          "iopub.execute_input": "2024-03-22T15:31:56.814955Z",
          "iopub.status.idle": "2024-03-22T15:31:56.824426Z",
          "shell.execute_reply.started": "2024-03-22T15:31:56.81492Z",
          "shell.execute_reply": "2024-03-22T15:31:56.823001Z"
        },
        "trusted": true,
        "id": "henELBYCX2lL"
      },
      "execution_count": null,
      "outputs": []
    },
    {
      "cell_type": "code",
      "source": [
        "#pretrained_model.compile(optimizer=tf.keras.optimizers.Adam(learning_rate=CONFIGURATION['LEARNING_RATE']),\n",
        "#                   loss=loss_function,\n",
        "#                    metrics=metrics\n",
        "#                                    )"
      ],
      "metadata": {
        "execution": {
          "iopub.status.busy": "2024-03-22T15:32:08.978147Z",
          "iopub.execute_input": "2024-03-22T15:32:08.979244Z",
          "iopub.status.idle": "2024-03-22T15:32:08.988064Z",
          "shell.execute_reply.started": "2024-03-22T15:32:08.979199Z",
          "shell.execute_reply": "2024-03-22T15:32:08.987184Z"
        },
        "trusted": true,
        "id": "hbj7drFMX2lN"
      },
      "execution_count": null,
      "outputs": []
    },
    {
      "cell_type": "code",
      "source": [
        "# pretrained_model.fit(\n",
        "#         train,\n",
        "#         validation_data=val,\n",
        "#         epochs=CONFIGURATION['N_EPOCHS'],\n",
        "#         verbose=1\n",
        "# )"
      ],
      "metadata": {
        "id": "Rex27HFeX2lN"
      },
      "execution_count": null,
      "outputs": []
    },
    {
      "cell_type": "markdown",
      "source": [
        "# ViT model from scratch"
      ],
      "metadata": {
        "id": "0SxBLaIJX2lN"
      }
    },
    {
      "cell_type": "code",
      "source": [
        "import os\n",
        "\n",
        "# Define the correct path to the dataset\n",
        "dataset_path = '/root/.cache/kagglehub/datasets/muhammadhananasghar/human-emotions-datasethes/versions/4/'\n",
        "\n",
        "# Check if the directory exists and list the files\n",
        "if os.path.exists(dataset_path):\n",
        "    files = os.listdir(dataset_path)\n",
        "    print(files)\n",
        "else:\n",
        "    print(\"Dataset path does not exist.\")\n",
        "\n"
      ],
      "metadata": {
        "id": "LeCaR-fPr9JK"
      },
      "execution_count": null,
      "outputs": []
    },
    {
      "cell_type": "code",
      "source": [
        "test_image=cv2.imread(r'/root/.cache/kagglehub/datasets/muhammadhananasghar/human-emotions-datasethes/versions/4/Emotions Dataset/Emotions Dataset/train/happy/100711.jpg')\n",
        "test_image=cv2.resize(test_image,(CONFIGURATION['IM_SIZE'],CONFIGURATION['IM_SIZE']))"
      ],
      "metadata": {
        "execution": {
          "iopub.status.busy": "2024-03-22T15:33:09.329618Z",
          "iopub.execute_input": "2024-03-22T15:33:09.330662Z",
          "iopub.status.idle": "2024-03-22T15:33:09.35648Z",
          "shell.execute_reply.started": "2024-03-22T15:33:09.330628Z",
          "shell.execute_reply": "2024-03-22T15:33:09.355419Z"
        },
        "trusted": true,
        "id": "4lG5rJAfX2lN"
      },
      "execution_count": null,
      "outputs": []
    },
    {
      "cell_type": "code",
      "source": [
        "from keras.saving import register_keras_serializable\n",
        "from tensorflow.keras.layers import Layer, Dense, Embedding\n",
        "import tensorflow as tf\n",
        "\n",
        "@register_keras_serializable()\n",
        "class PatchEncoder(Layer):\n",
        "    def __init__(self, N_PATCHES, HIDDEN_SIZE, **kwargs):\n",
        "        super(PatchEncoder, self).__init__(**kwargs)\n",
        "        self.N_PATCHES = N_PATCHES\n",
        "        self.HIDDEN_SIZE = HIDDEN_SIZE\n",
        "        self.linear_projection = Dense(HIDDEN_SIZE)\n",
        "        self.positional_embedding = Embedding(N_PATCHES, HIDDEN_SIZE)\n",
        "\n",
        "    def call(self, x):\n",
        "        patches = tf.image.extract_patches(\n",
        "            images=x,\n",
        "            sizes=[1, 16, 16, 1],\n",
        "            strides=[1, 16, 16, 1],\n",
        "            rates=[1, 1, 1, 1],\n",
        "            padding='VALID'\n",
        "        )\n",
        "        patches = tf.reshape(patches, (tf.shape(patches)[0], -1, patches.shape[-1]))\n",
        "\n",
        "        embedding_input = tf.range(start=0, limit=self.N_PATCHES, delta=1)\n",
        "        output = self.linear_projection(patches) + self.positional_embedding(embedding_input)\n",
        "        return output\n",
        "\n",
        "    def get_config(self):\n",
        "        config = super(PatchEncoder, self).get_config()\n",
        "        config.update({\n",
        "            \"N_PATCHES\": self.N_PATCHES,\n",
        "            \"HIDDEN_SIZE\": self.HIDDEN_SIZE,\n",
        "        })\n",
        "        return config\n",
        "\n",
        "    @classmethod\n",
        "    def from_config(cls, config):\n",
        "        return cls(**config)\n"
      ],
      "metadata": {
        "execution": {
          "iopub.status.busy": "2024-03-22T15:33:25.403514Z",
          "iopub.execute_input": "2024-03-22T15:33:25.404113Z",
          "iopub.status.idle": "2024-03-22T15:33:25.411726Z",
          "shell.execute_reply.started": "2024-03-22T15:33:25.404061Z",
          "shell.execute_reply": "2024-03-22T15:33:25.410443Z"
        },
        "trusted": true,
        "id": "foqdpo4cX2lN"
      },
      "execution_count": null,
      "outputs": []
    },
    {
      "cell_type": "code",
      "source": [
        "from keras.saving import register_keras_serializable\n",
        "from tensorflow.keras.layers import Layer, LayerNormalization, MultiHeadAttention, Dense, Add\n",
        "\n",
        "@register_keras_serializable()\n",
        "class TransformerEncoder(Layer):\n",
        "    def __init__(self, N_HEADS, HIDDEN_SIZE, **kwargs):\n",
        "        super(TransformerEncoder, self).__init__(**kwargs)\n",
        "        self.N_HEADS = N_HEADS\n",
        "        self.HIDDEN_SIZE = HIDDEN_SIZE\n",
        "\n",
        "        self.layer_norm_1 = LayerNormalization()\n",
        "        self.layer_norm_2 = LayerNormalization()\n",
        "        self.multi_head_attention = MultiHeadAttention(N_HEADS, HIDDEN_SIZE)\n",
        "        self.dense_1 = Dense(HIDDEN_SIZE, activation=tf.nn.gelu)\n",
        "        self.dense_2 = Dense(HIDDEN_SIZE, activation=tf.nn.gelu)\n",
        "\n",
        "    def call(self, input):\n",
        "        x_1 = self.layer_norm_1(input)\n",
        "        x_1 = self.multi_head_attention(x_1, x_1)\n",
        "        x_1 = Add()([x_1, input])\n",
        "\n",
        "        x_2 = self.layer_norm_2(x_1)\n",
        "        x_2 = self.dense_1(x_2)\n",
        "        output = self.dense_2(x_2)\n",
        "        output = Add()([output, x_1])\n",
        "        return output\n",
        "\n",
        "    def get_config(self):\n",
        "        config = super(TransformerEncoder, self).get_config()\n",
        "        config.update({\n",
        "            \"N_HEADS\": self.N_HEADS,\n",
        "            \"HIDDEN_SIZE\": self.HIDDEN_SIZE,\n",
        "        })\n",
        "        return config\n",
        "\n",
        "    @classmethod\n",
        "    def from_config(cls, config):\n",
        "        return cls(**config)\n"
      ],
      "metadata": {
        "execution": {
          "iopub.status.busy": "2024-03-22T15:33:38.738886Z",
          "iopub.execute_input": "2024-03-22T15:33:38.739268Z",
          "iopub.status.idle": "2024-03-22T15:33:38.747522Z",
          "shell.execute_reply.started": "2024-03-22T15:33:38.739241Z",
          "shell.execute_reply": "2024-03-22T15:33:38.746247Z"
        },
        "trusted": true,
        "id": "KKQFTi-zX2lO"
      },
      "execution_count": null,
      "outputs": []
    },
    {
      "cell_type": "code",
      "source": [
        "import tensorflow as tf\n",
        "from tensorflow.keras import Model\n",
        "from tensorflow.keras.layers import Dense, Flatten\n",
        "from keras.saving import register_keras_serializable\n",
        "\n",
        "\n",
        "\n",
        "CONFIGURATION = {\n",
        "    'NUM_CLASSES': 3,\n",
        "    'CLASS_NAMES': ['angry', 'happy', 'sad']\n",
        "}\n",
        "\n",
        "@register_keras_serializable()\n",
        "class ViT(Model):\n",
        "    def __init__(self, N_HEADS, HIDDEN_SIZE, N_PATCHES, N_LAYERS, N_DENSE_UNITS, **kwargs):\n",
        "        super(ViT, self).__init__(**kwargs)\n",
        "        self.N_HEADS = N_HEADS\n",
        "        self.HIDDEN_SIZE = HIDDEN_SIZE\n",
        "        self.N_PATCHES = N_PATCHES\n",
        "        self.N_LAYERS = N_LAYERS\n",
        "        self.N_DENSE_UNITS = N_DENSE_UNITS\n",
        "\n",
        "        self.patch_encoder = PatchEncoder(N_PATCHES, HIDDEN_SIZE)\n",
        "        self.trans_encoder = [TransformerEncoder(N_HEADS, HIDDEN_SIZE) for _ in range(N_LAYERS)]\n",
        "        self.dense_1 = Dense(N_DENSE_UNITS, activation=tf.nn.gelu)\n",
        "        self.dense_2 = Dense(N_DENSE_UNITS, activation=tf.nn.gelu)\n",
        "        self.dense_3 = Dense(CONFIGURATION['NUM_CLASSES'], activation='softmax')\n",
        "\n",
        "    def call(self, inputs):\n",
        "        x = self.patch_encoder(inputs)\n",
        "        for layer in self.trans_encoder:\n",
        "            x = layer(x)\n",
        "        x = Flatten()(x)\n",
        "        x = self.dense_1(x)\n",
        "        x = self.dense_2(x)\n",
        "        return self.dense_3(x)\n",
        "\n",
        "    def get_config(self):\n",
        "        config = super(ViT, self).get_config()\n",
        "        config.update({\n",
        "            \"N_HEADS\": self.N_HEADS,\n",
        "            \"HIDDEN_SIZE\": self.HIDDEN_SIZE,\n",
        "            \"N_PATCHES\": self.N_PATCHES,\n",
        "            \"N_LAYERS\": self.N_LAYERS,\n",
        "            \"N_DENSE_UNITS\": self.N_DENSE_UNITS,\n",
        "        })\n",
        "        return config\n",
        "\n",
        "    @classmethod\n",
        "    def from_config(cls, config):\n",
        "        return cls(**config)\n",
        "\n"
      ],
      "metadata": {
        "execution": {
          "iopub.status.busy": "2024-03-22T15:33:50.621566Z",
          "iopub.execute_input": "2024-03-22T15:33:50.622294Z",
          "iopub.status.idle": "2024-03-22T15:33:50.630144Z",
          "shell.execute_reply.started": "2024-03-22T15:33:50.622263Z",
          "shell.execute_reply": "2024-03-22T15:33:50.629328Z"
        },
        "trusted": true,
        "id": "3n2nsYy3X2lO"
      },
      "execution_count": null,
      "outputs": []
    },
    {
      "cell_type": "code",
      "source": [
        "\n",
        "vit = ViT(\n",
        "    N_HEADS=4,\n",
        "    HIDDEN_SIZE=768,\n",
        "    N_PATCHES=256,\n",
        "    N_LAYERS=2,\n",
        "    N_DENSE_UNITS=128\n",
        ")\n",
        "\n",
        "\n",
        "vit(tf.zeros([1, 256, 256, 3]))\n",
        "\n",
        "\n",
        "model = vit\n",
        "\n",
        "\n",
        "model.summary()\n"
      ],
      "metadata": {
        "execution": {
          "iopub.status.busy": "2024-03-22T15:34:18.846867Z",
          "iopub.execute_input": "2024-03-22T15:34:18.847258Z",
          "iopub.status.idle": "2024-03-22T15:34:18.852367Z",
          "shell.execute_reply.started": "2024-03-22T15:34:18.847228Z",
          "shell.execute_reply": "2024-03-22T15:34:18.851037Z"
        },
        "trusted": true,
        "id": "zB2SDZLaX2lO"
      },
      "execution_count": null,
      "outputs": []
    },
    {
      "cell_type": "markdown",
      "source": [
        "# HuggingFace ViT"
      ],
      "metadata": {
        "id": "uTZnxvZ5X2lO"
      }
    },
    {
      "cell_type": "code",
      "source": [
        "resize_rescale_hf=tf.keras.Sequential([\n",
        "        Resizing(224,224),\n",
        "        Rescaling(1./255),\n",
        "        Permute((3,1,2))\n",
        "])"
      ],
      "metadata": {
        "execution": {
          "iopub.status.busy": "2024-03-22T15:34:53.957385Z",
          "iopub.execute_input": "2024-03-22T15:34:53.957913Z",
          "iopub.status.idle": "2024-03-22T15:34:53.96954Z",
          "shell.execute_reply.started": "2024-03-22T15:34:53.957879Z",
          "shell.execute_reply": "2024-03-22T15:34:53.968192Z"
        },
        "trusted": true,
        "id": "qKi7fA_1X2lO"
      },
      "execution_count": null,
      "outputs": []
    },
    {
      "cell_type": "code",
      "source": [
        "#  from transformers import TFViTModel,ViTFeatureExtractor\n",
        "\n",
        "#  base_model=TFViTModel.from_pretrained('google/vit-base-patch16-224-in21k')\n",
        "\n",
        "#  inputs=Input(shape=(256,256,3))\n",
        "#  x=resize_rescale_hf(inputs)\n",
        "#  x=base_model(x)[0][:,0,:]\n",
        "\n",
        "#  output=Dense(CONFIGURATION['NUM_CLASSES'],activation='softmax')(x)\n",
        "#  model=tf.keras.Model(inputs=inputs,outputs=output)"
      ],
      "metadata": {
        "execution": {
          "iopub.status.busy": "2024-03-22T15:35:45.136741Z",
          "iopub.execute_input": "2024-03-22T15:35:45.137202Z",
          "iopub.status.idle": "2024-03-22T15:35:45.142889Z",
          "shell.execute_reply.started": "2024-03-22T15:35:45.137169Z",
          "shell.execute_reply": "2024-03-22T15:35:45.14157Z"
        },
        "trusted": true,
        "id": "mQYybfXXX2lO"
      },
      "execution_count": null,
      "outputs": []
    },
    {
      "cell_type": "code",
      "source": [
        "# model.summary()"
      ],
      "metadata": {
        "execution": {
          "iopub.status.busy": "2024-03-22T15:35:51.477175Z",
          "iopub.execute_input": "2024-03-22T15:35:51.477568Z",
          "iopub.status.idle": "2024-03-22T15:35:51.482334Z",
          "shell.execute_reply.started": "2024-03-22T15:35:51.477538Z",
          "shell.execute_reply": "2024-03-22T15:35:51.481099Z"
        },
        "trusted": true,
        "id": "mDyiavhTX2lO"
      },
      "execution_count": null,
      "outputs": []
    },
    {
      "cell_type": "code",
      "source": [
        "loss_function=tf.keras.losses.CategoricalCrossentropy()\n",
        "metrics=[tf.keras.metrics.CategoricalAccuracy(name='accuracy'),tf.keras.metrics.TopKCategoricalAccuracy(k=2,name='top_k_accurcay')]"
      ],
      "metadata": {
        "execution": {
          "iopub.status.busy": "2024-03-22T15:36:18.312309Z",
          "iopub.execute_input": "2024-03-22T15:36:18.312756Z",
          "iopub.status.idle": "2024-03-22T15:36:18.325474Z",
          "shell.execute_reply.started": "2024-03-22T15:36:18.312725Z",
          "shell.execute_reply": "2024-03-22T15:36:18.324138Z"
        },
        "trusted": true,
        "id": "N98lCn8nX2lO"
      },
      "execution_count": null,
      "outputs": []
    },
    {
      "cell_type": "code",
      "source": [
        "#  model.compile(optimizer=tf.keras.optimizers.Adam(learning_rate=5e-5),loss=loss_function,metrics=metrics)"
      ],
      "metadata": {
        "execution": {
          "iopub.status.busy": "2024-03-22T15:37:06.142701Z",
          "iopub.execute_input": "2024-03-22T15:37:06.143191Z",
          "iopub.status.idle": "2024-03-22T15:37:06.150367Z",
          "shell.execute_reply.started": "2024-03-22T15:37:06.143154Z",
          "shell.execute_reply": "2024-03-22T15:37:06.149003Z"
        },
        "trusted": true,
        "id": "fn2eCdoMX2lO"
      },
      "execution_count": null,
      "outputs": []
    },
    {
      "cell_type": "code",
      "source": [
        "#  model.fit(train,validation_data=val,epochs=10,verbose=1)"
      ],
      "metadata": {
        "execution": {
          "iopub.status.busy": "2024-03-22T15:37:29.733526Z",
          "iopub.execute_input": "2024-03-22T15:37:29.733997Z",
          "iopub.status.idle": "2024-03-22T15:37:29.739926Z",
          "shell.execute_reply.started": "2024-03-22T15:37:29.73396Z",
          "shell.execute_reply": "2024-03-22T15:37:29.738529Z"
        },
        "trusted": true,
        "id": "CdP153d_X2lP"
      },
      "execution_count": null,
      "outputs": []
    },
    {
      "cell_type": "markdown",
      "source": [
        "## Using WandB with ViT"
      ],
      "metadata": {
        "id": "ttHJivOOX2lP"
      }
    },
    {
      "cell_type": "code",
      "source": [
        "# !pip install wandb\n",
        "\n",
        "# import wandb\n",
        "\n",
        "# from wandb.integration.keras import WandbCallback\n",
        "\n",
        "# from tensorflow.keras.callbacks import Callback"
      ],
      "metadata": {
        "execution": {
          "iopub.status.busy": "2024-03-22T15:38:44.003177Z",
          "iopub.execute_input": "2024-03-22T15:38:44.003624Z",
          "iopub.status.idle": "2024-03-22T15:38:45.387361Z",
          "shell.execute_reply.started": "2024-03-22T15:38:44.003586Z",
          "shell.execute_reply": "2024-03-22T15:38:45.386256Z"
        },
        "trusted": true,
        "id": "DL_GZ_EzX2lP"
      },
      "execution_count": null,
      "outputs": []
    },
    {
      "cell_type": "code",
      "source": [
        "# wandb.login()"
      ],
      "metadata": {
        "execution": {
          "iopub.status.busy": "2024-03-22T15:39:38.280141Z",
          "iopub.execute_input": "2024-03-22T15:39:38.280604Z",
          "iopub.status.idle": "2024-03-22T15:39:38.286866Z",
          "shell.execute_reply.started": "2024-03-22T15:39:38.28057Z",
          "shell.execute_reply": "2024-03-22T15:39:38.285317Z"
        },
        "trusted": true,
        "id": "y2e_PT7wX2lP"
      },
      "execution_count": null,
      "outputs": []
    },
    {
      "cell_type": "code",
      "source": [
        "# wandb.init(project='Emotion-Detection')"
      ],
      "metadata": {
        "id": "N2TycTNMX2lP"
      },
      "execution_count": null,
      "outputs": []
    },
    {
      "cell_type": "code",
      "source": [
        "\n",
        "# wandb.config={\"BATCH_SIZE\": 32,\n",
        "#    \"IM_SIZE\": 256,\n",
        "#    \"LEARNING_RATE\": 5e-5,\n",
        "#    \"N_EPOCHS\": 20,\n",
        "#    \"DROPOUT_RATE\": 0.0,\n",
        "#   \"REGULARIZATION_RATE\": 0.0,\n",
        "#    \"N_FILTERS\": 6,\n",
        "#    \"KERNEL_SIZE\": 3,\n",
        "#    \"N_STRIDES\": 1,\n",
        "#    \"POOL_SIZE\": 2,\n",
        "#    \"N_DENSE_1\": 1024,\n",
        "#   \"N_DENSE_2\": 128,\n",
        "#    \"NUM_CLASSES\": 3,\n",
        "#    \"PATCH_SIZE\": 16,\n",
        "#    \"PROJ_DIM\": 768,\n",
        "#    \"CLASS_NAMES\": [\"angry\", \"happy\", \"sad\"],\n",
        "#             }"
      ],
      "metadata": {
        "id": "CQmM9Sr7X2lP"
      },
      "execution_count": null,
      "outputs": []
    },
    {
      "cell_type": "code",
      "source": [
        "model =vit\n",
        "# model.compile(optimizer=tf.keras.optimizers.Adam(learning_rate=5e-5),loss=loss_function,metrics=metrics)"
      ],
      "metadata": {
        "id": "v06VbsP_X2lP"
      },
      "execution_count": null,
      "outputs": []
    },
    {
      "cell_type": "code",
      "source": [
        "# import wandb\n",
        "# from wandb.integration.keras import WandbMetricsLogger\n",
        "\n",
        "# model = vit\n",
        "# history = model.fit(\n",
        "#    train,\n",
        "#    validation_data=val,\n",
        "#    epochs=3,\n",
        "#    verbose=1,\n",
        "#    callbacks=[\n",
        "#        WandbMetricsLogger(log_freq='epoch')\n",
        "#    ]\n",
        "# )"
      ],
      "metadata": {
        "id": "Vn7n8qygX2lP"
      },
      "execution_count": null,
      "outputs": []
    },
    {
      "cell_type": "code",
      "source": [
        "# import numpy as np\n",
        "# import wandb\n",
        "# from tensorflow.keras.callbacks import Callback\n",
        "\n",
        "# class LogConfMatrix(Callback):\n",
        "#     def on_epoch_end(self, epoch, logs=None):\n",
        "#         predicted = []\n",
        "#         labels = []\n",
        "\n",
        "#         for im, label in val:\n",
        "#             preds = model(im, training=False)\n",
        "#             predicted.append(preds.numpy())\n",
        "#             labels.append(label.numpy())\n",
        "\n",
        "#         pred = np.concatenate([np.argmax(p, axis=-1) for p in predicted])\n",
        "#         lab = np.concatenate([np.argmax(l, axis=-1) for l in labels])\n",
        "\n",
        "#         cm = wandb.plot.confusion_matrix(\n",
        "#             y_true=lab,\n",
        "#             preds=pred,\n",
        "#             class_names=CONFIGURATION['CLASS_NAMES']\n",
        "#         )\n",
        "#         wandb.log({\"confusion_matrix\": cm})\n"
      ],
      "metadata": {
        "id": "og-uJlrTX2lP"
      },
      "execution_count": null,
      "outputs": []
    },
    {
      "cell_type": "code",
      "source": [
        "# class LogResultsTable(Callback):\n",
        "#    def on_epoch_end(self,epoch,logs):\n",
        "#        columns=['Image','Predicted','Label']\n",
        "\n",
        "#        val_table=wandb.Table(columns=columns)\n",
        "#        for im,label in val.take(100):\n",
        "\n",
        "#            pred=CONFIGURATION['CLASS_NAMES'][tf.argmax(model(im),axis=-1).numpy()[0]]\n",
        "#            lab=CONFIGURATION['CLASS_NAMES'][tf.argmax(label,axis=-1).numpy()[0]]\n",
        "#            row=[wandb.Image(im),pred,lab]\n",
        "\n",
        "#            val_table.add_data(*row)\n",
        "\n",
        "#        wandb.log({'Model Results':val_table})\n",
        "\n"
      ],
      "metadata": {
        "id": "v7BUOIbFX2lP"
      },
      "execution_count": null,
      "outputs": []
    },
    {
      "cell_type": "code",
      "source": [
        "# history = model.fit(\n",
        "#     train,\n",
        "#     validation_data=val,\n",
        "#     epochs=3,\n",
        "#     verbose=1,\n",
        "#     callbacks=[\n",
        "#         WandbCallback(log_model=False, save_model=False),\n",
        "#         LogConfMatrix(),\n",
        "#         LogResultsTable()\n",
        "#     ]\n",
        "# )\n"
      ],
      "metadata": {
        "id": "HN3IPewOX2lQ"
      },
      "execution_count": null,
      "outputs": []
    },
    {
      "cell_type": "code",
      "source": [
        "# model.save_weights(\"vit.weights.h5\")\n",
        "# model.save('vit_finetuned.keras')\n",
        "# model.save('vit_finetuned.h5')"
      ],
      "metadata": {
        "id": "vqQNjqxBewa3"
      },
      "execution_count": null,
      "outputs": []
    },
    {
      "cell_type": "code",
      "source": [
        "# from keras.models import load_model\n",
        "# model = load_model('vit_finetuned.keras', custom_objects={'ViT': ViT, 'PatchEncoder': PatchEncoder, 'TransformerEncoder': TransformerEncoder})\n"
      ],
      "metadata": {
        "id": "J3Kn8cNfjych"
      },
      "execution_count": null,
      "outputs": []
    },
    {
      "cell_type": "code",
      "source": [
        "# import os\n",
        "\n",
        "# save_dir = \"/content/drive/MyDrive/vit_models\"\n",
        "# os.makedirs(save_dir, exist_ok=True)\n"
      ],
      "metadata": {
        "id": "p_oswP2yNMZx"
      },
      "execution_count": null,
      "outputs": []
    },
    {
      "cell_type": "code",
      "source": [
        "# model.save(f\"{save_dir}/vit_finetuned.keras\")\n",
        "# model.save_weights(f\"{save_dir}/vit.weights.h5\")\n",
        "\n",
        "\n"
      ],
      "metadata": {
        "id": "SkH42TGeMp9e"
      },
      "execution_count": null,
      "outputs": []
    },
    {
      "cell_type": "code",
      "source": [
        "from google.colab import drive\n",
        "drive.mount('/content/drive')"
      ],
      "metadata": {
        "id": "xEgsgWkaOXSO"
      },
      "execution_count": null,
      "outputs": []
    },
    {
      "cell_type": "code",
      "source": [
        "from keras.models import load_model\n",
        "\n",
        "model = load_model(\n",
        "    \"/content/drive/MyDrive/vit_models/vit_finetuned.keras\",\n",
        "    custom_objects={'ViT': ViT, 'PatchEncoder': PatchEncoder, 'TransformerEncoder': TransformerEncoder}\n",
        ")\n"
      ],
      "metadata": {
        "id": "CHBKIwJjNaJI"
      },
      "execution_count": null,
      "outputs": []
    },
    {
      "cell_type": "code",
      "source": [
        "!pip install tensorflow==2.18.0 --quiet"
      ],
      "metadata": {
        "id": "Cmwns8pbdXan"
      },
      "execution_count": null,
      "outputs": []
    },
    {
      "cell_type": "markdown",
      "source": [
        "Exporting to ONNX format"
      ],
      "metadata": {
        "id": "X6y2EJ69TofC"
      }
    },
    {
      "cell_type": "code",
      "source": [
        "import keras\n",
        "import tensorflow as tf\n",
        "print(keras.__version__)\n",
        "print(tf.__version__)\n"
      ],
      "metadata": {
        "id": "xscohNy4expk"
      },
      "execution_count": null,
      "outputs": []
    },
    {
      "cell_type": "markdown",
      "source": [
        "Deployment"
      ],
      "metadata": {
        "id": "vSPjx2Q2LZS2"
      }
    },
    {
      "cell_type": "code",
      "source": [
        "!pip install  tf2onnx\n",
        "!pip install onnxruntime\n",
        "!pip install onnxruntime-gpu\n",
        "import onnxruntime as rt"
      ],
      "metadata": {
        "id": "UJzAHWqMLXhv"
      },
      "execution_count": null,
      "outputs": []
    },
    {
      "cell_type": "code",
      "source": [
        "rt.get_device"
      ],
      "metadata": {
        "id": "ECv-OV4EDlwd"
      },
      "execution_count": null,
      "outputs": []
    },
    {
      "cell_type": "code",
      "source": [
        "# # #conversion\n",
        "# !python -m tf2onnx.convert --saved-model vit_finetuned/ --output vit_onnx.onnx"
      ],
      "metadata": {
        "id": "uM8bBqFjcCP_"
      },
      "execution_count": null,
      "outputs": []
    },
    {
      "cell_type": "code",
      "source": [
        "CONFIGURATION = {\n",
        "    \"BATCH_SIZE\": 32,\n",
        "    \"IM_SIZE\": 256,\n",
        "}\n",
        "output_names = ['dense']"
      ],
      "metadata": {
        "id": "fsiWm9YzpTwn"
      },
      "execution_count": null,
      "outputs": []
    },
    {
      "cell_type": "code",
      "source": [],
      "metadata": {
        "id": "uah2myYDtE_u"
      },
      "execution_count": null,
      "outputs": []
    },
    {
      "cell_type": "code",
      "source": [
        "import tensorflow as tf\n",
        "from tensorflow import keras\n",
        "import tf2onnx\n",
        "\n",
        "# Define input shape based on your model's expected input\n",
        "inputs = keras.Input(shape=(256, 256, 3), name=\"input\")\n",
        "\n",
        "# Wrap your loaded ViT model with an explicit Functional model\n",
        "outputs = model(inputs)\n",
        "wrapped_model = keras.Model(inputs=inputs, outputs=outputs)\n",
        "\n",
        "# Convert to ONNX\n",
        "spec = (tf.TensorSpec((None, 256, 256, 3), tf.float32, name=\"input\"),)\n",
        "output_path = \"vit_finetuned.onnx\"\n",
        "\n",
        "model_proto, _ = tf2onnx.convert.from_keras(\n",
        "    wrapped_model,\n",
        "    input_signature=spec,\n",
        "    opset=13,\n",
        "    output_path=output_path\n",
        ")\n",
        "\n",
        "output_names = [n.name for n in model_proto.graph.output]\n",
        "print(\"Output names:\", output_names)\n"
      ],
      "metadata": {
        "id": "RYNdzwNkAIn4"
      },
      "execution_count": null,
      "outputs": []
    },
    {
      "cell_type": "code",
      "source": [
        "test_image = cv2.imread('/kaggle/input/human-emotions-datasethes/Emotions Dataset/Emotions Dataset/train/happy/100711.jpg')\n",
        "im = test_image.astype(np.float32)\n",
        "im = np.expand_dims(test_image, axis=0)"
      ],
      "metadata": {
        "id": "eJbxuX_fBme9"
      },
      "execution_count": null,
      "outputs": []
    },
    {
      "cell_type": "code",
      "source": [
        "import time\n",
        "providers = ['CUDAExecutionProvider','CPUExecutionProvider']\n",
        "m = rt.InferenceSession(output_path, providers = providers)\n",
        "t1 = time.time()\n",
        "N_PREDICTIONS = 100\n",
        "for _ in range(100):\n",
        "  onnx_pred = m.run(output_names, {\"input\":im})\n",
        "print(time.time() - t1)"
      ],
      "metadata": {
        "id": "oSyFnrHn9V-T"
      },
      "execution_count": null,
      "outputs": []
    },
    {
      "cell_type": "code",
      "source": [
        "print(onnx_pred)"
      ],
      "metadata": {
        "id": "xUFzcC3tCQyR"
      },
      "execution_count": null,
      "outputs": []
    },
    {
      "cell_type": "code",
      "source": [
        "t1 = time.time()\n",
        "model(im)\n",
        "print(time.time() - t1)"
      ],
      "metadata": {
        "id": "7KD-5cFdCn4C"
      },
      "execution_count": null,
      "outputs": []
    },
    {
      "cell_type": "markdown",
      "source": [
        "Quantisation"
      ],
      "metadata": {
        "id": "JonAtnFLH4Fn"
      }
    },
    {
      "cell_type": "code",
      "source": [
        "import onnx\n",
        "from onnxruntime.quantisation import quantize_dynamic, QuantType"
      ],
      "metadata": {
        "id": "Z619VVUXH5kF"
      },
      "execution_count": null,
      "outputs": []
    },
    {
      "cell_type": "code",
      "source": [
        "model_fp32 = '/conten/drive/MyDrive?Bang/vit_keras.onnx'\n",
        "model_quant = '/content/model_quantized.onnx'\n",
        "\n",
        "quantized_moel = quantize_dynamic(model_fp32, model_quant, weight_type = QuantType.QUInt8)"
      ],
      "metadata": {
        "id": "7KP_vRuoIUpa"
      },
      "execution_count": null,
      "outputs": []
    }
  ]
}