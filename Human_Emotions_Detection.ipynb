{
  "nbformat": 4,
  "nbformat_minor": 0,
  "metadata": {
    "colab": {
      "provenance": [],
      "mount_file_id": "1zAcQhi0MYwE-sw6U4n1IAK_h2aVxwH6M",
      "authorship_tag": "ABX9TyM68xFGgShNMFj3h2f4QCPU",
      "include_colab_link": true
    },
    "kernelspec": {
      "name": "python3",
      "display_name": "Python 3"
    },
    "language_info": {
      "name": "python"
    }
  },
  "cells": [
    {
      "cell_type": "markdown",
      "metadata": {
        "id": "view-in-github",
        "colab_type": "text"
      },
      "source": [
        "<a href=\"https://colab.research.google.com/github/Abhiraj36/HumanEmotionsDetection/blob/main/Human_Emotions_Detection.ipynb\" target=\"_parent\"><img src=\"https://colab.research.google.com/assets/colab-badge.svg\" alt=\"Open In Colab\"/></a>"
      ]
    },
    {
      "cell_type": "code",
      "source": [
        "import tensorflow as tf\n",
        "from PIL import Image\n",
        "import albumentations as A\n",
        "import tensorflow_datasets as tfds\n",
        "import tensorflow_probability as tfp\n",
        "from tensorflow.keras.models import Model\n",
        "from tensorflow.keras.layers import Layer, GlobalAveragePooling2D, Conv2D, MaxPool2D, Dense\n",
        "from tensorflow.keras.losses import BinaryCrossentropy, CategoricalCrossentropy\n",
        "from tensorflow.keras.metrics import Accuracy, TopKCategoricalAccuracy\n",
        "from tensorflow.keras.optimizers import Adam\n",
        "from tensorflow.keras.callbacks import Callback, CSVLogger, EarlyStopping, LearningRateScheduler\n",
        "from tensorflow.keras.regularizers import L2,L1\n",
        "\n"
      ],
      "metadata": {
        "id": "kCF3skYv48y2"
      },
      "execution_count": null,
      "outputs": []
    },
    {
      "cell_type": "code",
      "source": [
        "import zipfile\n",
        "import os\n",
        "\n",
        "zip_path = \"/content/Human_Emotion_Dataset.zip\"  # Update with correct path\n",
        "extract_path = \"/content/Human_Emotion_Dataset\"  # Folder where it will be extracted\n",
        "\n",
        "# Extract the zip file\n",
        "with zipfile.ZipFile(zip_path, 'r') as zip_ref:\n",
        "    zip_ref.extractall(extract_path)\n",
        "\n",
        "print(\"Dataset extracted successfully!\")\n"
      ],
      "metadata": {
        "colab": {
          "base_uri": "https://localhost:8080/"
        },
        "id": "FpHnoQG_tpQI",
        "outputId": "bb285372-3b27-494a-8c92-1968766f13e7"
      },
      "execution_count": null,
      "outputs": [
        {
          "output_type": "stream",
          "name": "stdout",
          "text": [
            "Dataset extracted successfully!\n"
          ]
        }
      ]
    },
    {
      "cell_type": "code",
      "source": [
        "dataset_path = \"/content/Human_Emotion_Dataset\"\n",
        "train_directory = os.path.join(dataset_path, \"EmotionsDataset_Splitted\", \"data\", \"train\")\n",
        "validation_directory = os.path.join(dataset_path, \"EmotionsDataset_Splitted\", \"data\", \"test\")\n",
        "\n",
        "\n",
        "print(\"Updated train path:\", train_directory)\n",
        "print(\"Updated validation path:\", validation_directory)\n",
        "\n",
        "CLASS_NAMES = [\"angry\", \"happy\", \"sad\"]\n",
        "\n"
      ],
      "metadata": {
        "colab": {
          "base_uri": "https://localhost:8080/"
        },
        "collapsed": true,
        "id": "ShgACtO9tu89",
        "outputId": "8113775f-bcc3-4518-848b-3ec044d76b7f"
      },
      "execution_count": null,
      "outputs": [
        {
          "output_type": "stream",
          "name": "stdout",
          "text": [
            "Updated train path: /content/Human_Emotion_Dataset/EmotionsDataset_Splitted/data/train\n",
            "Updated validation path: /content/Human_Emotion_Dataset/EmotionsDataset_Splitted/data/test\n"
          ]
        }
      ]
    },
    {
      "cell_type": "code",
      "source": [
        "train_dataset = tf.keras.preprocessing.image_dataset_from_directory(\n",
        "    train_directory,\n",
        "    labels='inferred',\n",
        "    label_mode='int',\n",
        "    image_size=(256, 256),\n",
        "    batch_size=32,\n",
        "    shuffle=True,\n",
        "    seed=99,\n",
        "    class_names=CLASS_NAMES,\n",
        "    color_mode='rgb'\n",
        ")\n",
        "\n",
        "val_dataset = tf.keras.preprocessing.image_dataset_from_directory(\n",
        "    validation_directory,  # Now pointing to test directory\n",
        "    labels='inferred',\n",
        "    label_mode='int',\n",
        "    image_size=(256, 256),\n",
        "    batch_size=32,\n",
        "    shuffle=False,  # Usually, we don't shuffle validation data\n",
        "    seed=99,\n",
        "    class_names=CLASS_NAMES,\n",
        "    color_mode='rgb'\n",
        ")\n",
        "\n",
        "\n",
        "\n"
      ],
      "metadata": {
        "colab": {
          "base_uri": "https://localhost:8080/"
        },
        "id": "6TUmJK_UuI8t",
        "outputId": "1bcd06e1-192a-48bf-de17-35f2743b6c21"
      },
      "execution_count": null,
      "outputs": [
        {
          "output_type": "stream",
          "name": "stdout",
          "text": [
            "Found 2278 files belonging to 3 classes.\n",
            "Found 569 files belonging to 3 classes.\n",
            "Datasets loaded successfully! 🚀\n"
          ]
        }
      ]
    },
    {
      "cell_type": "code",
      "source": [],
      "metadata": {
        "id": "gKKBnMDRwdM8"
      },
      "execution_count": null,
      "outputs": []
    },
    {
      "cell_type": "code",
      "source": [],
      "metadata": {
        "id": "9UOLfUzuukbY"
      },
      "execution_count": null,
      "outputs": []
    }
  ]
}